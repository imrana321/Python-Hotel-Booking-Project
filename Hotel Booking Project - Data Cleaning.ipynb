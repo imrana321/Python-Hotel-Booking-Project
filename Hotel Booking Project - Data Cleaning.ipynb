{
 "cells": [
  {
   "cell_type": "markdown",
   "id": "81bf909e",
   "metadata": {},
   "source": [
    "# --------- Data Cleaning ---------"
   ]
  },
  {
   "cell_type": "markdown",
   "id": "b1679b6d",
   "metadata": {},
   "source": [
    "# Case Study: Hotel Bookings\n",
    "\n",
    "\n",
    "\n",
    "## Dataset Explanation\n",
    "- **hotelHotel:** (H1 = Resort Hotel or H2 = City Hotel)\n",
    "- **is_canceled:** Value indicating if the booking was canceled (1) or not (0)\n",
    "- **lead_time:** Number of days that elapsed between the entering date of the booking into the PMS and the arrival date\n",
    "- **arrival_date_year:** Year of arrival date\n",
    "- **arrival_date_month:** Month of arrival date\n",
    "- **arrival_date_week_number:** Week number of year for arrival date\n",
    "- **arrival_date_day_of_month:** Day of arrival date\n",
    "- **stays_in_weekend_nights:** Number of weekend nights (Saturday or Sunday) the guest stayed or booked to stay at the hotel\n",
    "- **stays_in_week_nights:** Number of week nights (Monday to Friday) the guest stayed or booked to stay at the hotel\n",
    "- **adults:** Number of adults\n",
    "- **children:** Number of children\n",
    "- **babies:** Number of babies\n",
    "- **meal:** Type of meal booked. Categories are presented in standard hospitality meal packages: Undefined/SC – no meal package; BB – Bed & Breakfast; HB – Half board (breakfast and one other meal – usually dinner); FB – Full board (breakfast, lunch and dinner)\n",
    "- **country:** Country of origin. Categories are represented in the ISO 3155–3:2013 format\n",
    "- **market_segment:** Market segment designation. In categories, the term “TA” means “Travel Agents” and “TO” means “Tour Operators”\n",
    "- **distribution_channel:** Booking distribution channel. The term “TA” means “Travel Agents” and “TO” means “Tour Operators”\n",
    "- **is_repeated_gues:t** Value indicating if the booking name was from a repeated guest (1) or not (0)\n",
    "- **previous_cancellations:**  Number of previous bookings that were cancelled by the customer prior to the current booking\n",
    "- **previous_bookings_not_canceled:** Number of previous bookings not cancelled by the customer prior to the current booking\n",
    "- **reserved_room_type:** Code of room type reserved. Code is presented instead of designation for anonymity reasons.\n",
    "- **assigned_room_type:** Code for the type of room assigned to the booking. Sometimes the assigned room type differs from the reserved room type due to hotel operation reasons (e.g. overbooking) or by customer request. Code is presented instead of designation for anonymity reasons.\n",
    "- **booking_changes:**  Number of changes/amendments made to the booking from the moment the booking was entered on the PMS until the moment of check-in or cancellation\n",
    "- **deposit_type:** Indication on if the customer made a deposit to guarantee the booking. This variable can assume three categories: No Deposit – no deposit was made; Non Refund – a deposit was made in the value of the total stay cost; Refundable – a deposit was made with a value under the total cost of stay.\n",
    "- **agent:** ID of the travel agency that made the booking\n",
    "- **company:** ID of the company/entity that made the booking or responsible for paying the booking. ID is presented instead of designation for anonymity reasons\n",
    "- **days_in_waiting_list:** Number of days the booking was in the waiting list before it was confirmed to the customer\n",
    "- **customer_type:** Type of booking, assuming one of four categories: Contract - when the booking has an allotment or other type of contract associated to it; Group – when the booking is associated to a group; Transient – when the booking is not part of a group or contract, and is not associated to other transient booking; Transient-party – when the booking is transient, but is associated to at least other transient booking\n",
    "- **adr:** Average Daily Rate as defined by dividing the sum of all lodging transactions by the total number of staying nights\n",
    "- **required_car_parking_spaces:** Number of car parking spaces required by the customer\n",
    "- **total_of_special_requests:** Number of special requests made by the customer (e.g. twin bed or high floor)\n",
    "- **reservation_status:** Reservation last status, assuming one of three categories: Canceled – booking was canceled by the customer; Check-Out – customer has checked in but already departed; No-Show – customer did not check-in and did inform the hotel of the reason why\n",
    "- **reservation_status_date:** Date at which the last status was set. This variable can be used in conjunction with the Reservation Status to understand when was the booking canceled or when did the customer checked-out of the hotel"
   ]
  },
  {
   "cell_type": "markdown",
   "id": "49808939",
   "metadata": {},
   "source": [
    "**Objective:**\n",
    "\n",
    "In this notebook, we are going to go through data cleaning techniques, which are:\n",
    "- Select and Treat All Missing Value\n",
    "- Remove unwanted observation (duplicated or irrelevant observation)\n",
    "- Fix Structure Error in Numerical and Categorical data\n",
    "- Deal with Correlated variables\n"
   ]
  },
  {
   "cell_type": "code",
   "execution_count": 2,
   "id": "f25f0db0",
   "metadata": {},
   "outputs": [],
   "source": [
    "# Importing Libraries --\n",
    "\n",
    "\n",
    "import pandas as pd\n",
    "import numpy as np\n",
    "import matplotlib.pyplot as plt"
   ]
  },
  {
   "cell_type": "code",
   "execution_count": 3,
   "id": "74427346",
   "metadata": {},
   "outputs": [
    {
     "data": {
      "text/html": [
       "<div>\n",
       "<style scoped>\n",
       "    .dataframe tbody tr th:only-of-type {\n",
       "        vertical-align: middle;\n",
       "    }\n",
       "\n",
       "    .dataframe tbody tr th {\n",
       "        vertical-align: top;\n",
       "    }\n",
       "\n",
       "    .dataframe thead th {\n",
       "        text-align: right;\n",
       "    }\n",
       "</style>\n",
       "<table border=\"1\" class=\"dataframe\">\n",
       "  <thead>\n",
       "    <tr style=\"text-align: right;\">\n",
       "      <th></th>\n",
       "      <th>hotel</th>\n",
       "      <th>is_canceled</th>\n",
       "      <th>lead_time</th>\n",
       "      <th>arrival_date_year</th>\n",
       "      <th>arrival_date_month</th>\n",
       "      <th>arrival_date_week_number</th>\n",
       "      <th>arrival_date_day_of_month</th>\n",
       "      <th>stays_in_weekend_nights</th>\n",
       "      <th>stays_in_week_nights</th>\n",
       "      <th>adults</th>\n",
       "      <th>...</th>\n",
       "      <th>deposit_type</th>\n",
       "      <th>agent</th>\n",
       "      <th>company</th>\n",
       "      <th>days_in_waiting_list</th>\n",
       "      <th>customer_type</th>\n",
       "      <th>adr</th>\n",
       "      <th>required_car_parking_spaces</th>\n",
       "      <th>total_of_special_requests</th>\n",
       "      <th>reservation_status</th>\n",
       "      <th>reservation_status_date</th>\n",
       "    </tr>\n",
       "  </thead>\n",
       "  <tbody>\n",
       "    <tr>\n",
       "      <th>0</th>\n",
       "      <td>Resort Hotel</td>\n",
       "      <td>0</td>\n",
       "      <td>342</td>\n",
       "      <td>2015</td>\n",
       "      <td>July</td>\n",
       "      <td>27</td>\n",
       "      <td>1</td>\n",
       "      <td>0</td>\n",
       "      <td>0</td>\n",
       "      <td>2</td>\n",
       "      <td>...</td>\n",
       "      <td>No Deposit</td>\n",
       "      <td>NaN</td>\n",
       "      <td>NaN</td>\n",
       "      <td>0</td>\n",
       "      <td>Transient</td>\n",
       "      <td>0.0</td>\n",
       "      <td>0</td>\n",
       "      <td>0</td>\n",
       "      <td>Check-Out</td>\n",
       "      <td>2015-07-01</td>\n",
       "    </tr>\n",
       "    <tr>\n",
       "      <th>1</th>\n",
       "      <td>Resort Hotel</td>\n",
       "      <td>0</td>\n",
       "      <td>737</td>\n",
       "      <td>2015</td>\n",
       "      <td>July</td>\n",
       "      <td>27</td>\n",
       "      <td>1</td>\n",
       "      <td>0</td>\n",
       "      <td>0</td>\n",
       "      <td>2</td>\n",
       "      <td>...</td>\n",
       "      <td>No Deposit</td>\n",
       "      <td>NaN</td>\n",
       "      <td>NaN</td>\n",
       "      <td>0</td>\n",
       "      <td>Transient</td>\n",
       "      <td>0.0</td>\n",
       "      <td>0</td>\n",
       "      <td>0</td>\n",
       "      <td>Check-Out</td>\n",
       "      <td>2015-07-01</td>\n",
       "    </tr>\n",
       "    <tr>\n",
       "      <th>2</th>\n",
       "      <td>Resort Hotel</td>\n",
       "      <td>0</td>\n",
       "      <td>7</td>\n",
       "      <td>2015</td>\n",
       "      <td>July</td>\n",
       "      <td>27</td>\n",
       "      <td>1</td>\n",
       "      <td>0</td>\n",
       "      <td>1</td>\n",
       "      <td>1</td>\n",
       "      <td>...</td>\n",
       "      <td>No Deposit</td>\n",
       "      <td>NaN</td>\n",
       "      <td>NaN</td>\n",
       "      <td>0</td>\n",
       "      <td>Transient</td>\n",
       "      <td>75.0</td>\n",
       "      <td>0</td>\n",
       "      <td>0</td>\n",
       "      <td>Check-Out</td>\n",
       "      <td>2015-07-02</td>\n",
       "    </tr>\n",
       "    <tr>\n",
       "      <th>3</th>\n",
       "      <td>Resort Hotel</td>\n",
       "      <td>0</td>\n",
       "      <td>13</td>\n",
       "      <td>2015</td>\n",
       "      <td>July</td>\n",
       "      <td>27</td>\n",
       "      <td>1</td>\n",
       "      <td>0</td>\n",
       "      <td>1</td>\n",
       "      <td>1</td>\n",
       "      <td>...</td>\n",
       "      <td>No Deposit</td>\n",
       "      <td>304.0</td>\n",
       "      <td>NaN</td>\n",
       "      <td>0</td>\n",
       "      <td>Transient</td>\n",
       "      <td>75.0</td>\n",
       "      <td>0</td>\n",
       "      <td>0</td>\n",
       "      <td>Check-Out</td>\n",
       "      <td>2015-07-02</td>\n",
       "    </tr>\n",
       "    <tr>\n",
       "      <th>4</th>\n",
       "      <td>Resort Hotel</td>\n",
       "      <td>0</td>\n",
       "      <td>14</td>\n",
       "      <td>2015</td>\n",
       "      <td>July</td>\n",
       "      <td>27</td>\n",
       "      <td>1</td>\n",
       "      <td>0</td>\n",
       "      <td>2</td>\n",
       "      <td>2</td>\n",
       "      <td>...</td>\n",
       "      <td>No Deposit</td>\n",
       "      <td>240.0</td>\n",
       "      <td>NaN</td>\n",
       "      <td>0</td>\n",
       "      <td>Transient</td>\n",
       "      <td>98.0</td>\n",
       "      <td>0</td>\n",
       "      <td>1</td>\n",
       "      <td>Check-Out</td>\n",
       "      <td>2015-07-03</td>\n",
       "    </tr>\n",
       "    <tr>\n",
       "      <th>5</th>\n",
       "      <td>Resort Hotel</td>\n",
       "      <td>0</td>\n",
       "      <td>14</td>\n",
       "      <td>2015</td>\n",
       "      <td>July</td>\n",
       "      <td>27</td>\n",
       "      <td>1</td>\n",
       "      <td>0</td>\n",
       "      <td>2</td>\n",
       "      <td>2</td>\n",
       "      <td>...</td>\n",
       "      <td>No Deposit</td>\n",
       "      <td>240.0</td>\n",
       "      <td>NaN</td>\n",
       "      <td>0</td>\n",
       "      <td>Transient</td>\n",
       "      <td>98.0</td>\n",
       "      <td>0</td>\n",
       "      <td>1</td>\n",
       "      <td>Check-Out</td>\n",
       "      <td>2015-07-03</td>\n",
       "    </tr>\n",
       "    <tr>\n",
       "      <th>6</th>\n",
       "      <td>Resort Hotel</td>\n",
       "      <td>0</td>\n",
       "      <td>0</td>\n",
       "      <td>2015</td>\n",
       "      <td>July</td>\n",
       "      <td>27</td>\n",
       "      <td>1</td>\n",
       "      <td>0</td>\n",
       "      <td>2</td>\n",
       "      <td>2</td>\n",
       "      <td>...</td>\n",
       "      <td>No Deposit</td>\n",
       "      <td>NaN</td>\n",
       "      <td>NaN</td>\n",
       "      <td>0</td>\n",
       "      <td>Transient</td>\n",
       "      <td>107.0</td>\n",
       "      <td>0</td>\n",
       "      <td>0</td>\n",
       "      <td>Check-Out</td>\n",
       "      <td>2015-07-03</td>\n",
       "    </tr>\n",
       "    <tr>\n",
       "      <th>7</th>\n",
       "      <td>Resort Hotel</td>\n",
       "      <td>0</td>\n",
       "      <td>9</td>\n",
       "      <td>2015</td>\n",
       "      <td>July</td>\n",
       "      <td>27</td>\n",
       "      <td>1</td>\n",
       "      <td>0</td>\n",
       "      <td>2</td>\n",
       "      <td>2</td>\n",
       "      <td>...</td>\n",
       "      <td>No Deposit</td>\n",
       "      <td>303.0</td>\n",
       "      <td>NaN</td>\n",
       "      <td>0</td>\n",
       "      <td>Transient</td>\n",
       "      <td>103.0</td>\n",
       "      <td>0</td>\n",
       "      <td>1</td>\n",
       "      <td>Check-Out</td>\n",
       "      <td>2015-07-03</td>\n",
       "    </tr>\n",
       "    <tr>\n",
       "      <th>8</th>\n",
       "      <td>Resort Hotel</td>\n",
       "      <td>1</td>\n",
       "      <td>85</td>\n",
       "      <td>2015</td>\n",
       "      <td>July</td>\n",
       "      <td>27</td>\n",
       "      <td>1</td>\n",
       "      <td>0</td>\n",
       "      <td>3</td>\n",
       "      <td>2</td>\n",
       "      <td>...</td>\n",
       "      <td>No Deposit</td>\n",
       "      <td>240.0</td>\n",
       "      <td>NaN</td>\n",
       "      <td>0</td>\n",
       "      <td>Transient</td>\n",
       "      <td>82.0</td>\n",
       "      <td>0</td>\n",
       "      <td>1</td>\n",
       "      <td>Canceled</td>\n",
       "      <td>2015-05-06</td>\n",
       "    </tr>\n",
       "    <tr>\n",
       "      <th>9</th>\n",
       "      <td>Resort Hotel</td>\n",
       "      <td>1</td>\n",
       "      <td>75</td>\n",
       "      <td>2015</td>\n",
       "      <td>July</td>\n",
       "      <td>27</td>\n",
       "      <td>1</td>\n",
       "      <td>0</td>\n",
       "      <td>3</td>\n",
       "      <td>2</td>\n",
       "      <td>...</td>\n",
       "      <td>No Deposit</td>\n",
       "      <td>15.0</td>\n",
       "      <td>NaN</td>\n",
       "      <td>0</td>\n",
       "      <td>Transient</td>\n",
       "      <td>105.5</td>\n",
       "      <td>0</td>\n",
       "      <td>0</td>\n",
       "      <td>Canceled</td>\n",
       "      <td>2015-04-22</td>\n",
       "    </tr>\n",
       "  </tbody>\n",
       "</table>\n",
       "<p>10 rows × 32 columns</p>\n",
       "</div>"
      ],
      "text/plain": [
       "          hotel  is_canceled  lead_time  arrival_date_year arrival_date_month  \\\n",
       "0  Resort Hotel            0        342               2015               July   \n",
       "1  Resort Hotel            0        737               2015               July   \n",
       "2  Resort Hotel            0          7               2015               July   \n",
       "3  Resort Hotel            0         13               2015               July   \n",
       "4  Resort Hotel            0         14               2015               July   \n",
       "5  Resort Hotel            0         14               2015               July   \n",
       "6  Resort Hotel            0          0               2015               July   \n",
       "7  Resort Hotel            0          9               2015               July   \n",
       "8  Resort Hotel            1         85               2015               July   \n",
       "9  Resort Hotel            1         75               2015               July   \n",
       "\n",
       "   arrival_date_week_number  arrival_date_day_of_month  \\\n",
       "0                        27                          1   \n",
       "1                        27                          1   \n",
       "2                        27                          1   \n",
       "3                        27                          1   \n",
       "4                        27                          1   \n",
       "5                        27                          1   \n",
       "6                        27                          1   \n",
       "7                        27                          1   \n",
       "8                        27                          1   \n",
       "9                        27                          1   \n",
       "\n",
       "   stays_in_weekend_nights  stays_in_week_nights  adults  ...  deposit_type  \\\n",
       "0                        0                     0       2  ...    No Deposit   \n",
       "1                        0                     0       2  ...    No Deposit   \n",
       "2                        0                     1       1  ...    No Deposit   \n",
       "3                        0                     1       1  ...    No Deposit   \n",
       "4                        0                     2       2  ...    No Deposit   \n",
       "5                        0                     2       2  ...    No Deposit   \n",
       "6                        0                     2       2  ...    No Deposit   \n",
       "7                        0                     2       2  ...    No Deposit   \n",
       "8                        0                     3       2  ...    No Deposit   \n",
       "9                        0                     3       2  ...    No Deposit   \n",
       "\n",
       "   agent company days_in_waiting_list customer_type    adr  \\\n",
       "0    NaN     NaN                    0     Transient    0.0   \n",
       "1    NaN     NaN                    0     Transient    0.0   \n",
       "2    NaN     NaN                    0     Transient   75.0   \n",
       "3  304.0     NaN                    0     Transient   75.0   \n",
       "4  240.0     NaN                    0     Transient   98.0   \n",
       "5  240.0     NaN                    0     Transient   98.0   \n",
       "6    NaN     NaN                    0     Transient  107.0   \n",
       "7  303.0     NaN                    0     Transient  103.0   \n",
       "8  240.0     NaN                    0     Transient   82.0   \n",
       "9   15.0     NaN                    0     Transient  105.5   \n",
       "\n",
       "   required_car_parking_spaces  total_of_special_requests  reservation_status  \\\n",
       "0                            0                          0           Check-Out   \n",
       "1                            0                          0           Check-Out   \n",
       "2                            0                          0           Check-Out   \n",
       "3                            0                          0           Check-Out   \n",
       "4                            0                          1           Check-Out   \n",
       "5                            0                          1           Check-Out   \n",
       "6                            0                          0           Check-Out   \n",
       "7                            0                          1           Check-Out   \n",
       "8                            0                          1            Canceled   \n",
       "9                            0                          0            Canceled   \n",
       "\n",
       "  reservation_status_date  \n",
       "0              2015-07-01  \n",
       "1              2015-07-01  \n",
       "2              2015-07-02  \n",
       "3              2015-07-02  \n",
       "4              2015-07-03  \n",
       "5              2015-07-03  \n",
       "6              2015-07-03  \n",
       "7              2015-07-03  \n",
       "8              2015-05-06  \n",
       "9              2015-04-22  \n",
       "\n",
       "[10 rows x 32 columns]"
      ]
     },
     "execution_count": 3,
     "metadata": {},
     "output_type": "execute_result"
    }
   ],
   "source": [
    "df = pd.read_csv(r\"D:\\0. DATA Science\\MA in Data Science\\Class Lessons\\1. [Module 1] -- PRE PROGRAM CONTENT --- Python - [Jan 4 - Mar 19] - 2023\\16. Day 19 - Mar 4 - Python\\hotelbookings.csv\")\n",
    "\n",
    "df.head(10)"
   ]
  },
  {
   "cell_type": "code",
   "execution_count": 4,
   "id": "05e11f94",
   "metadata": {},
   "outputs": [],
   "source": [
    "# We need to get our dataset by using the read_csv function of the pandas library."
   ]
  },
  {
   "cell_type": "markdown",
   "id": "6749f1cf",
   "metadata": {},
   "source": [
    "### >>> 1. Exploring your Data / Diagnosis Phase <<<"
   ]
  },
  {
   "cell_type": "markdown",
   "id": "ee2b4411",
   "metadata": {},
   "source": [
    "### 1.1 Diagnose Data for Cleaning"
   ]
  },
  {
   "cell_type": "markdown",
   "id": "8c964043",
   "metadata": {},
   "source": [
    "When you get a new DataFrame to work with, the first thing you need to do is explore it and see what it contains. There are several useful methods and attributes for this.\n",
    "\n",
    "- .head() returns the first few rows (the “head” of the DataFrame).\n",
    "- .tail() returns the last few rows (the “tail” of the DataFrame).\n",
    "- .info() shows information on each of the columns, such as the data type and number of missing values.\n",
    "- .shape returns the number of rows and columns of the DataFrame.\n",
    "- .columns: An index of columns: the column names.\n",
    "- .index: An index for the rows: either row numbers or row names."
   ]
  },
  {
   "cell_type": "code",
   "execution_count": 5,
   "id": "c16af5a8",
   "metadata": {},
   "outputs": [
    {
     "name": "stdout",
     "output_type": "stream",
     "text": [
      "<class 'pandas.core.frame.DataFrame'>\n",
      "RangeIndex: 119390 entries, 0 to 119389\n",
      "Data columns (total 32 columns):\n",
      " #   Column                          Non-Null Count   Dtype  \n",
      "---  ------                          --------------   -----  \n",
      " 0   hotel                           119390 non-null  object \n",
      " 1   is_canceled                     119390 non-null  int64  \n",
      " 2   lead_time                       119390 non-null  int64  \n",
      " 3   arrival_date_year               119390 non-null  int64  \n",
      " 4   arrival_date_month              119390 non-null  object \n",
      " 5   arrival_date_week_number        119390 non-null  int64  \n",
      " 6   arrival_date_day_of_month       119390 non-null  int64  \n",
      " 7   stays_in_weekend_nights         119390 non-null  int64  \n",
      " 8   stays_in_week_nights            119390 non-null  int64  \n",
      " 9   adults                          119390 non-null  int64  \n",
      " 10  children                        119386 non-null  float64\n",
      " 11  babies                          119390 non-null  int64  \n",
      " 12  meal                            119390 non-null  object \n",
      " 13  country                         118902 non-null  object \n",
      " 14  market_segment                  119390 non-null  object \n",
      " 15  distribution_channel            119390 non-null  object \n",
      " 16  is_repeated_guest               119390 non-null  int64  \n",
      " 17  previous_cancellations          119390 non-null  int64  \n",
      " 18  previous_bookings_not_canceled  119390 non-null  int64  \n",
      " 19  reserved_room_type              119390 non-null  object \n",
      " 20  assigned_room_type              119390 non-null  object \n",
      " 21  booking_changes                 119390 non-null  int64  \n",
      " 22  deposit_type                    119390 non-null  object \n",
      " 23  agent                           103050 non-null  float64\n",
      " 24  company                         6797 non-null    float64\n",
      " 25  days_in_waiting_list            119390 non-null  int64  \n",
      " 26  customer_type                   119390 non-null  object \n",
      " 27  adr                             119390 non-null  float64\n",
      " 28  required_car_parking_spaces     119390 non-null  int64  \n",
      " 29  total_of_special_requests       119390 non-null  int64  \n",
      " 30  reservation_status              119390 non-null  object \n",
      " 31  reservation_status_date         119390 non-null  object \n",
      "dtypes: float64(4), int64(16), object(12)\n",
      "memory usage: 29.1+ MB\n"
     ]
    }
   ],
   "source": [
    "df.info()"
   ]
  },
  {
   "cell_type": "code",
   "execution_count": 6,
   "id": "7ebe773d",
   "metadata": {},
   "outputs": [
    {
     "data": {
      "text/html": [
       "<div>\n",
       "<style scoped>\n",
       "    .dataframe tbody tr th:only-of-type {\n",
       "        vertical-align: middle;\n",
       "    }\n",
       "\n",
       "    .dataframe tbody tr th {\n",
       "        vertical-align: top;\n",
       "    }\n",
       "\n",
       "    .dataframe thead th {\n",
       "        text-align: right;\n",
       "    }\n",
       "</style>\n",
       "<table border=\"1\" class=\"dataframe\">\n",
       "  <thead>\n",
       "    <tr style=\"text-align: right;\">\n",
       "      <th></th>\n",
       "      <th>hotel</th>\n",
       "      <th>is_canceled</th>\n",
       "      <th>lead_time</th>\n",
       "      <th>arrival_date_year</th>\n",
       "      <th>arrival_date_month</th>\n",
       "      <th>arrival_date_week_number</th>\n",
       "      <th>arrival_date_day_of_month</th>\n",
       "      <th>stays_in_weekend_nights</th>\n",
       "      <th>stays_in_week_nights</th>\n",
       "      <th>adults</th>\n",
       "      <th>...</th>\n",
       "      <th>deposit_type</th>\n",
       "      <th>agent</th>\n",
       "      <th>company</th>\n",
       "      <th>days_in_waiting_list</th>\n",
       "      <th>customer_type</th>\n",
       "      <th>adr</th>\n",
       "      <th>required_car_parking_spaces</th>\n",
       "      <th>total_of_special_requests</th>\n",
       "      <th>reservation_status</th>\n",
       "      <th>reservation_status_date</th>\n",
       "    </tr>\n",
       "  </thead>\n",
       "  <tbody>\n",
       "    <tr>\n",
       "      <th>119385</th>\n",
       "      <td>City Hotel</td>\n",
       "      <td>0</td>\n",
       "      <td>23</td>\n",
       "      <td>2017</td>\n",
       "      <td>August</td>\n",
       "      <td>35</td>\n",
       "      <td>30</td>\n",
       "      <td>2</td>\n",
       "      <td>5</td>\n",
       "      <td>2</td>\n",
       "      <td>...</td>\n",
       "      <td>No Deposit</td>\n",
       "      <td>394.0</td>\n",
       "      <td>NaN</td>\n",
       "      <td>0</td>\n",
       "      <td>Transient</td>\n",
       "      <td>96.14</td>\n",
       "      <td>0</td>\n",
       "      <td>0</td>\n",
       "      <td>Check-Out</td>\n",
       "      <td>2017-09-06</td>\n",
       "    </tr>\n",
       "    <tr>\n",
       "      <th>119386</th>\n",
       "      <td>City Hotel</td>\n",
       "      <td>0</td>\n",
       "      <td>102</td>\n",
       "      <td>2017</td>\n",
       "      <td>August</td>\n",
       "      <td>35</td>\n",
       "      <td>31</td>\n",
       "      <td>2</td>\n",
       "      <td>5</td>\n",
       "      <td>3</td>\n",
       "      <td>...</td>\n",
       "      <td>No Deposit</td>\n",
       "      <td>9.0</td>\n",
       "      <td>NaN</td>\n",
       "      <td>0</td>\n",
       "      <td>Transient</td>\n",
       "      <td>225.43</td>\n",
       "      <td>0</td>\n",
       "      <td>2</td>\n",
       "      <td>Check-Out</td>\n",
       "      <td>2017-09-07</td>\n",
       "    </tr>\n",
       "    <tr>\n",
       "      <th>119387</th>\n",
       "      <td>City Hotel</td>\n",
       "      <td>0</td>\n",
       "      <td>34</td>\n",
       "      <td>2017</td>\n",
       "      <td>August</td>\n",
       "      <td>35</td>\n",
       "      <td>31</td>\n",
       "      <td>2</td>\n",
       "      <td>5</td>\n",
       "      <td>2</td>\n",
       "      <td>...</td>\n",
       "      <td>No Deposit</td>\n",
       "      <td>9.0</td>\n",
       "      <td>NaN</td>\n",
       "      <td>0</td>\n",
       "      <td>Transient</td>\n",
       "      <td>157.71</td>\n",
       "      <td>0</td>\n",
       "      <td>4</td>\n",
       "      <td>Check-Out</td>\n",
       "      <td>2017-09-07</td>\n",
       "    </tr>\n",
       "    <tr>\n",
       "      <th>119388</th>\n",
       "      <td>City Hotel</td>\n",
       "      <td>0</td>\n",
       "      <td>109</td>\n",
       "      <td>2017</td>\n",
       "      <td>August</td>\n",
       "      <td>35</td>\n",
       "      <td>31</td>\n",
       "      <td>2</td>\n",
       "      <td>5</td>\n",
       "      <td>2</td>\n",
       "      <td>...</td>\n",
       "      <td>No Deposit</td>\n",
       "      <td>89.0</td>\n",
       "      <td>NaN</td>\n",
       "      <td>0</td>\n",
       "      <td>Transient</td>\n",
       "      <td>104.40</td>\n",
       "      <td>0</td>\n",
       "      <td>0</td>\n",
       "      <td>Check-Out</td>\n",
       "      <td>2017-09-07</td>\n",
       "    </tr>\n",
       "    <tr>\n",
       "      <th>119389</th>\n",
       "      <td>City Hotel</td>\n",
       "      <td>0</td>\n",
       "      <td>205</td>\n",
       "      <td>2017</td>\n",
       "      <td>August</td>\n",
       "      <td>35</td>\n",
       "      <td>29</td>\n",
       "      <td>2</td>\n",
       "      <td>7</td>\n",
       "      <td>2</td>\n",
       "      <td>...</td>\n",
       "      <td>No Deposit</td>\n",
       "      <td>9.0</td>\n",
       "      <td>NaN</td>\n",
       "      <td>0</td>\n",
       "      <td>Transient</td>\n",
       "      <td>151.20</td>\n",
       "      <td>0</td>\n",
       "      <td>2</td>\n",
       "      <td>Check-Out</td>\n",
       "      <td>2017-09-07</td>\n",
       "    </tr>\n",
       "  </tbody>\n",
       "</table>\n",
       "<p>5 rows × 32 columns</p>\n",
       "</div>"
      ],
      "text/plain": [
       "             hotel  is_canceled  lead_time  arrival_date_year  \\\n",
       "119385  City Hotel            0         23               2017   \n",
       "119386  City Hotel            0        102               2017   \n",
       "119387  City Hotel            0         34               2017   \n",
       "119388  City Hotel            0        109               2017   \n",
       "119389  City Hotel            0        205               2017   \n",
       "\n",
       "       arrival_date_month  arrival_date_week_number  \\\n",
       "119385             August                        35   \n",
       "119386             August                        35   \n",
       "119387             August                        35   \n",
       "119388             August                        35   \n",
       "119389             August                        35   \n",
       "\n",
       "        arrival_date_day_of_month  stays_in_weekend_nights  \\\n",
       "119385                         30                        2   \n",
       "119386                         31                        2   \n",
       "119387                         31                        2   \n",
       "119388                         31                        2   \n",
       "119389                         29                        2   \n",
       "\n",
       "        stays_in_week_nights  adults  ...  deposit_type  agent company  \\\n",
       "119385                     5       2  ...    No Deposit  394.0     NaN   \n",
       "119386                     5       3  ...    No Deposit    9.0     NaN   \n",
       "119387                     5       2  ...    No Deposit    9.0     NaN   \n",
       "119388                     5       2  ...    No Deposit   89.0     NaN   \n",
       "119389                     7       2  ...    No Deposit    9.0     NaN   \n",
       "\n",
       "       days_in_waiting_list customer_type     adr  \\\n",
       "119385                    0     Transient   96.14   \n",
       "119386                    0     Transient  225.43   \n",
       "119387                    0     Transient  157.71   \n",
       "119388                    0     Transient  104.40   \n",
       "119389                    0     Transient  151.20   \n",
       "\n",
       "        required_car_parking_spaces  total_of_special_requests  \\\n",
       "119385                            0                          0   \n",
       "119386                            0                          2   \n",
       "119387                            0                          4   \n",
       "119388                            0                          0   \n",
       "119389                            0                          2   \n",
       "\n",
       "        reservation_status reservation_status_date  \n",
       "119385           Check-Out              2017-09-06  \n",
       "119386           Check-Out              2017-09-07  \n",
       "119387           Check-Out              2017-09-07  \n",
       "119388           Check-Out              2017-09-07  \n",
       "119389           Check-Out              2017-09-07  \n",
       "\n",
       "[5 rows x 32 columns]"
      ]
     },
     "execution_count": 6,
     "metadata": {},
     "output_type": "execute_result"
    }
   ],
   "source": [
    "df.tail()"
   ]
  },
  {
   "cell_type": "code",
   "execution_count": 7,
   "id": "8593cbf5",
   "metadata": {},
   "outputs": [
    {
     "data": {
      "text/plain": [
       "(119390, 32)"
      ]
     },
     "execution_count": 7,
     "metadata": {},
     "output_type": "execute_result"
    }
   ],
   "source": [
    "df.shape"
   ]
  },
  {
   "cell_type": "code",
   "execution_count": 8,
   "id": "33d74469",
   "metadata": {},
   "outputs": [
    {
     "data": {
      "text/plain": [
       "Index(['hotel', 'is_canceled', 'lead_time', 'arrival_date_year',\n",
       "       'arrival_date_month', 'arrival_date_week_number',\n",
       "       'arrival_date_day_of_month', 'stays_in_weekend_nights',\n",
       "       'stays_in_week_nights', 'adults', 'children', 'babies', 'meal',\n",
       "       'country', 'market_segment', 'distribution_channel',\n",
       "       'is_repeated_guest', 'previous_cancellations',\n",
       "       'previous_bookings_not_canceled', 'reserved_room_type',\n",
       "       'assigned_room_type', 'booking_changes', 'deposit_type', 'agent',\n",
       "       'company', 'days_in_waiting_list', 'customer_type', 'adr',\n",
       "       'required_car_parking_spaces', 'total_of_special_requests',\n",
       "       'reservation_status', 'reservation_status_date'],\n",
       "      dtype='object')"
      ]
     },
     "execution_count": 8,
     "metadata": {},
     "output_type": "execute_result"
    }
   ],
   "source": [
    "df.columns"
   ]
  },
  {
   "cell_type": "code",
   "execution_count": 9,
   "id": "8b664034",
   "metadata": {},
   "outputs": [
    {
     "data": {
      "text/plain": [
       "RangeIndex(start=0, stop=119390, step=1)"
      ]
     },
     "execution_count": 9,
     "metadata": {},
     "output_type": "execute_result"
    }
   ],
   "source": [
    "df.index"
   ]
  },
  {
   "cell_type": "markdown",
   "id": "6ccee88a",
   "metadata": {},
   "source": [
    "Note: Missing values in agent, children, country and company columns (We can see that from the non null count)"
   ]
  },
  {
   "cell_type": "markdown",
   "id": "c4682fa6",
   "metadata": {},
   "source": [
    "### 1.2 Exploratory Data Analysis (EDA)"
   ]
  },
  {
   "cell_type": "markdown",
   "id": "fdee5fea",
   "metadata": {},
   "source": [
    "- describe() method is good for checking on numerical columns\n",
    "- value_counts() is good for checking on categorical columns"
   ]
  },
  {
   "cell_type": "markdown",
   "id": "dd28199c",
   "metadata": {},
   "source": [
    "#### Check Unique Values for df column to know whether column type is correct or not --"
   ]
  },
  {
   "cell_type": "code",
   "execution_count": 10,
   "id": "2292d23a",
   "metadata": {},
   "outputs": [
    {
     "name": "stdout",
     "output_type": "stream",
     "text": [
      "Column Name: hotel -> Has unique value of: 2\n",
      "Column Name: is_canceled -> Has unique value of: 2\n",
      "Column Name: lead_time -> Has unique value of: 479\n",
      "Column Name: arrival_date_year -> Has unique value of: 3\n",
      "Column Name: arrival_date_month -> Has unique value of: 12\n",
      "Column Name: arrival_date_week_number -> Has unique value of: 53\n",
      "Column Name: arrival_date_day_of_month -> Has unique value of: 31\n",
      "Column Name: stays_in_weekend_nights -> Has unique value of: 17\n",
      "Column Name: stays_in_week_nights -> Has unique value of: 35\n",
      "Column Name: adults -> Has unique value of: 14\n",
      "Column Name: children -> Has unique value of: 5\n",
      "Column Name: babies -> Has unique value of: 5\n",
      "Column Name: meal -> Has unique value of: 5\n",
      "Column Name: country -> Has unique value of: 177\n",
      "Column Name: market_segment -> Has unique value of: 8\n",
      "Column Name: distribution_channel -> Has unique value of: 5\n",
      "Column Name: is_repeated_guest -> Has unique value of: 2\n",
      "Column Name: previous_cancellations -> Has unique value of: 15\n",
      "Column Name: previous_bookings_not_canceled -> Has unique value of: 73\n",
      "Column Name: reserved_room_type -> Has unique value of: 10\n",
      "Column Name: assigned_room_type -> Has unique value of: 12\n",
      "Column Name: booking_changes -> Has unique value of: 21\n",
      "Column Name: deposit_type -> Has unique value of: 3\n",
      "Column Name: agent -> Has unique value of: 333\n",
      "Column Name: company -> Has unique value of: 352\n",
      "Column Name: days_in_waiting_list -> Has unique value of: 128\n",
      "Column Name: customer_type -> Has unique value of: 4\n",
      "Column Name: adr -> Has unique value of: 8879\n",
      "Column Name: required_car_parking_spaces -> Has unique value of: 5\n",
      "Column Name: total_of_special_requests -> Has unique value of: 6\n",
      "Column Name: reservation_status -> Has unique value of: 3\n",
      "Column Name: reservation_status_date -> Has unique value of: 926\n"
     ]
    }
   ],
   "source": [
    "for i in df.columns:\n",
    "    x = df[i].value_counts()   #Count the unique values in the colums#\n",
    "    print(\"Column Name:\", i, \"-> Has unique value of:\", len(x))"
   ]
  },
  {
   "cell_type": "markdown",
   "id": "4b4a2fef",
   "metadata": {},
   "source": [
    "According to the unqiue values per each column the following columns should be change to \n",
    "1. **Categorical Columns:**   mealType, country,market_segment,distribution_channel,reserved_room_type, assigned_room_type, customer_type,reservation_status,arrival_date_month, hotel, arrival_date_year\n",
    "2. **Boolean:** is_canceled, is_repeated_guest\n",
    "3. **Int:** children, agent, company, ... \n",
    "4. **Date:** reservation_status_date"
   ]
  },
  {
   "cell_type": "code",
   "execution_count": 11,
   "id": "38585a23",
   "metadata": {},
   "outputs": [
    {
     "data": {
      "text/html": [
       "<div>\n",
       "<style scoped>\n",
       "    .dataframe tbody tr th:only-of-type {\n",
       "        vertical-align: middle;\n",
       "    }\n",
       "\n",
       "    .dataframe tbody tr th {\n",
       "        vertical-align: top;\n",
       "    }\n",
       "\n",
       "    .dataframe thead th {\n",
       "        text-align: right;\n",
       "    }\n",
       "</style>\n",
       "<table border=\"1\" class=\"dataframe\">\n",
       "  <thead>\n",
       "    <tr style=\"text-align: right;\">\n",
       "      <th></th>\n",
       "      <th>hotel</th>\n",
       "      <th>is_canceled</th>\n",
       "      <th>lead_time</th>\n",
       "      <th>arrival_date_year</th>\n",
       "      <th>arrival_date_month</th>\n",
       "      <th>arrival_date_week_number</th>\n",
       "      <th>arrival_date_day_of_month</th>\n",
       "      <th>stays_in_weekend_nights</th>\n",
       "      <th>stays_in_week_nights</th>\n",
       "      <th>adults</th>\n",
       "      <th>...</th>\n",
       "      <th>deposit_type</th>\n",
       "      <th>agent</th>\n",
       "      <th>company</th>\n",
       "      <th>days_in_waiting_list</th>\n",
       "      <th>customer_type</th>\n",
       "      <th>adr</th>\n",
       "      <th>required_car_parking_spaces</th>\n",
       "      <th>total_of_special_requests</th>\n",
       "      <th>reservation_status</th>\n",
       "      <th>reservation_status_date</th>\n",
       "    </tr>\n",
       "  </thead>\n",
       "  <tbody>\n",
       "    <tr>\n",
       "      <th>0</th>\n",
       "      <td>Resort Hotel</td>\n",
       "      <td>0</td>\n",
       "      <td>342</td>\n",
       "      <td>2015</td>\n",
       "      <td>July</td>\n",
       "      <td>27</td>\n",
       "      <td>1</td>\n",
       "      <td>0</td>\n",
       "      <td>0</td>\n",
       "      <td>2</td>\n",
       "      <td>...</td>\n",
       "      <td>No Deposit</td>\n",
       "      <td>NaN</td>\n",
       "      <td>NaN</td>\n",
       "      <td>0</td>\n",
       "      <td>Transient</td>\n",
       "      <td>0.0</td>\n",
       "      <td>0</td>\n",
       "      <td>0</td>\n",
       "      <td>Check-Out</td>\n",
       "      <td>2015-07-01</td>\n",
       "    </tr>\n",
       "    <tr>\n",
       "      <th>1</th>\n",
       "      <td>Resort Hotel</td>\n",
       "      <td>0</td>\n",
       "      <td>737</td>\n",
       "      <td>2015</td>\n",
       "      <td>July</td>\n",
       "      <td>27</td>\n",
       "      <td>1</td>\n",
       "      <td>0</td>\n",
       "      <td>0</td>\n",
       "      <td>2</td>\n",
       "      <td>...</td>\n",
       "      <td>No Deposit</td>\n",
       "      <td>NaN</td>\n",
       "      <td>NaN</td>\n",
       "      <td>0</td>\n",
       "      <td>Transient</td>\n",
       "      <td>0.0</td>\n",
       "      <td>0</td>\n",
       "      <td>0</td>\n",
       "      <td>Check-Out</td>\n",
       "      <td>2015-07-01</td>\n",
       "    </tr>\n",
       "    <tr>\n",
       "      <th>2</th>\n",
       "      <td>Resort Hotel</td>\n",
       "      <td>0</td>\n",
       "      <td>7</td>\n",
       "      <td>2015</td>\n",
       "      <td>July</td>\n",
       "      <td>27</td>\n",
       "      <td>1</td>\n",
       "      <td>0</td>\n",
       "      <td>1</td>\n",
       "      <td>1</td>\n",
       "      <td>...</td>\n",
       "      <td>No Deposit</td>\n",
       "      <td>NaN</td>\n",
       "      <td>NaN</td>\n",
       "      <td>0</td>\n",
       "      <td>Transient</td>\n",
       "      <td>75.0</td>\n",
       "      <td>0</td>\n",
       "      <td>0</td>\n",
       "      <td>Check-Out</td>\n",
       "      <td>2015-07-02</td>\n",
       "    </tr>\n",
       "    <tr>\n",
       "      <th>3</th>\n",
       "      <td>Resort Hotel</td>\n",
       "      <td>0</td>\n",
       "      <td>13</td>\n",
       "      <td>2015</td>\n",
       "      <td>July</td>\n",
       "      <td>27</td>\n",
       "      <td>1</td>\n",
       "      <td>0</td>\n",
       "      <td>1</td>\n",
       "      <td>1</td>\n",
       "      <td>...</td>\n",
       "      <td>No Deposit</td>\n",
       "      <td>304.0</td>\n",
       "      <td>NaN</td>\n",
       "      <td>0</td>\n",
       "      <td>Transient</td>\n",
       "      <td>75.0</td>\n",
       "      <td>0</td>\n",
       "      <td>0</td>\n",
       "      <td>Check-Out</td>\n",
       "      <td>2015-07-02</td>\n",
       "    </tr>\n",
       "    <tr>\n",
       "      <th>4</th>\n",
       "      <td>Resort Hotel</td>\n",
       "      <td>0</td>\n",
       "      <td>14</td>\n",
       "      <td>2015</td>\n",
       "      <td>July</td>\n",
       "      <td>27</td>\n",
       "      <td>1</td>\n",
       "      <td>0</td>\n",
       "      <td>2</td>\n",
       "      <td>2</td>\n",
       "      <td>...</td>\n",
       "      <td>No Deposit</td>\n",
       "      <td>240.0</td>\n",
       "      <td>NaN</td>\n",
       "      <td>0</td>\n",
       "      <td>Transient</td>\n",
       "      <td>98.0</td>\n",
       "      <td>0</td>\n",
       "      <td>1</td>\n",
       "      <td>Check-Out</td>\n",
       "      <td>2015-07-03</td>\n",
       "    </tr>\n",
       "  </tbody>\n",
       "</table>\n",
       "<p>5 rows × 32 columns</p>\n",
       "</div>"
      ],
      "text/plain": [
       "          hotel  is_canceled  lead_time  arrival_date_year arrival_date_month  \\\n",
       "0  Resort Hotel            0        342               2015               July   \n",
       "1  Resort Hotel            0        737               2015               July   \n",
       "2  Resort Hotel            0          7               2015               July   \n",
       "3  Resort Hotel            0         13               2015               July   \n",
       "4  Resort Hotel            0         14               2015               July   \n",
       "\n",
       "   arrival_date_week_number  arrival_date_day_of_month  \\\n",
       "0                        27                          1   \n",
       "1                        27                          1   \n",
       "2                        27                          1   \n",
       "3                        27                          1   \n",
       "4                        27                          1   \n",
       "\n",
       "   stays_in_weekend_nights  stays_in_week_nights  adults  ...  deposit_type  \\\n",
       "0                        0                     0       2  ...    No Deposit   \n",
       "1                        0                     0       2  ...    No Deposit   \n",
       "2                        0                     1       1  ...    No Deposit   \n",
       "3                        0                     1       1  ...    No Deposit   \n",
       "4                        0                     2       2  ...    No Deposit   \n",
       "\n",
       "   agent company days_in_waiting_list customer_type   adr  \\\n",
       "0    NaN     NaN                    0     Transient   0.0   \n",
       "1    NaN     NaN                    0     Transient   0.0   \n",
       "2    NaN     NaN                    0     Transient  75.0   \n",
       "3  304.0     NaN                    0     Transient  75.0   \n",
       "4  240.0     NaN                    0     Transient  98.0   \n",
       "\n",
       "   required_car_parking_spaces  total_of_special_requests  reservation_status  \\\n",
       "0                            0                          0           Check-Out   \n",
       "1                            0                          0           Check-Out   \n",
       "2                            0                          0           Check-Out   \n",
       "3                            0                          0           Check-Out   \n",
       "4                            0                          1           Check-Out   \n",
       "\n",
       "  reservation_status_date  \n",
       "0              2015-07-01  \n",
       "1              2015-07-01  \n",
       "2              2015-07-02  \n",
       "3              2015-07-02  \n",
       "4              2015-07-03  \n",
       "\n",
       "[5 rows x 32 columns]"
      ]
     },
     "execution_count": 11,
     "metadata": {},
     "output_type": "execute_result"
    }
   ],
   "source": [
    "df.head()"
   ]
  },
  {
   "cell_type": "markdown",
   "id": "609e15b4",
   "metadata": {},
   "source": [
    "#### After knowing which columns represent categorical data, let's see the counts of each value in these columns --"
   ]
  },
  {
   "cell_type": "code",
   "execution_count": 12,
   "id": "d4a64e75",
   "metadata": {},
   "outputs": [
    {
     "name": "stdout",
     "output_type": "stream",
     "text": [
      "Column Name:  hotel and the value counts: \n",
      "City Hotel      79330\n",
      "Resort Hotel    40060\n",
      "Name: hotel, dtype: int64\n",
      "\n",
      "Column Name:  is_canceled and the value counts: \n",
      "0    75166\n",
      "1    44224\n",
      "Name: is_canceled, dtype: int64\n",
      "\n",
      "Column Name:  arrival_date_month and the value counts: \n",
      "August       13877\n",
      "July         12661\n",
      "May          11791\n",
      "October      11160\n",
      "April        11089\n",
      "June         10939\n",
      "September    10508\n",
      "March         9794\n",
      "February      8068\n",
      "November      6794\n",
      "December      6780\n",
      "January       5929\n",
      "Name: arrival_date_month, dtype: int64\n",
      "\n",
      "Column Name:  meal and the value counts: \n",
      "BB           92310\n",
      "HB           14463\n",
      "SC           10650\n",
      "Undefined     1169\n",
      "FB             798\n",
      "Name: meal, dtype: int64\n",
      "\n",
      "Column Name:  country and the value counts: \n",
      "PRT    48590\n",
      "GBR    12129\n",
      "FRA    10415\n",
      "ESP     8568\n",
      "DEU     7287\n",
      "       ...  \n",
      "DJI        1\n",
      "BWA        1\n",
      "HND        1\n",
      "VGB        1\n",
      "NAM        1\n",
      "Name: country, Length: 177, dtype: int64\n",
      "\n",
      "Column Name:  market_segment and the value counts: \n",
      "Online TA        56477\n",
      "Offline TA/TO    24219\n",
      "Groups           19811\n",
      "Direct           12606\n",
      "Corporate         5295\n",
      "Complementary      743\n",
      "Aviation           237\n",
      "Undefined            2\n",
      "Name: market_segment, dtype: int64\n",
      "\n",
      "Column Name:  distribution_channel and the value counts: \n",
      "TA/TO        97870\n",
      "Direct       14645\n",
      "Corporate     6677\n",
      "GDS            193\n",
      "Undefined        5\n",
      "Name: distribution_channel, dtype: int64\n",
      "\n",
      "Column Name:  is_repeated_guest and the value counts: \n",
      "0    115580\n",
      "1      3810\n",
      "Name: is_repeated_guest, dtype: int64\n",
      "\n",
      "Column Name:  deposit_type and the value counts: \n",
      "No Deposit    104641\n",
      "Non Refund     14587\n",
      "Refundable       162\n",
      "Name: deposit_type, dtype: int64\n",
      "\n",
      "Column Name:  customer_type and the value counts: \n",
      "Transient          89613\n",
      "Transient-Party    25124\n",
      "Contract            4076\n",
      "Group                577\n",
      "Name: customer_type, dtype: int64\n",
      "\n",
      "Column Name:  reservation_status and the value counts: \n",
      "Check-Out    75166\n",
      "Canceled     43017\n",
      "No-Show       1207\n",
      "Name: reservation_status, dtype: int64\n",
      "\n",
      "Column Name:  reservation_status_date and the value counts: \n",
      "2015-10-21    1461\n",
      "2015-07-06     805\n",
      "2016-11-25     790\n",
      "2015-01-01     763\n",
      "2016-01-18     625\n",
      "              ... \n",
      "2015-02-27       1\n",
      "2015-04-25       1\n",
      "2015-03-11       1\n",
      "2015-06-14       1\n",
      "2015-02-12       1\n",
      "Name: reservation_status_date, Length: 926, dtype: int64\n",
      "\n"
     ]
    }
   ],
   "source": [
    "df_cat = df[['hotel', 'is_canceled', 'arrival_date_month', 'meal',\n",
    "       'country', 'market_segment', 'distribution_channel',\n",
    "       'is_repeated_guest',  'deposit_type', 'customer_type', \n",
    "       'reservation_status', 'reservation_status_date']]\n",
    "\n",
    "for i in df_cat.columns:\n",
    "    x=df_cat[i].value_counts()\n",
    "    print(\"Column Name: \", i, \"and the value counts: \")\n",
    "    print(x)\n",
    "    print()"
   ]
  },
  {
   "cell_type": "markdown",
   "id": "685a4118",
   "metadata": {},
   "source": [
    "#### After knowing which columns represent numerical values, lets describe these columns statistically --"
   ]
  },
  {
   "cell_type": "code",
   "execution_count": 13,
   "id": "197ec2c9",
   "metadata": {},
   "outputs": [
    {
     "data": {
      "text/html": [
       "<div>\n",
       "<style scoped>\n",
       "    .dataframe tbody tr th:only-of-type {\n",
       "        vertical-align: middle;\n",
       "    }\n",
       "\n",
       "    .dataframe tbody tr th {\n",
       "        vertical-align: top;\n",
       "    }\n",
       "\n",
       "    .dataframe thead th {\n",
       "        text-align: right;\n",
       "    }\n",
       "</style>\n",
       "<table border=\"1\" class=\"dataframe\">\n",
       "  <thead>\n",
       "    <tr style=\"text-align: right;\">\n",
       "      <th></th>\n",
       "      <th>lead_time</th>\n",
       "      <th>arrival_date_year</th>\n",
       "      <th>arrival_date_week_number</th>\n",
       "      <th>arrival_date_day_of_month</th>\n",
       "      <th>stays_in_weekend_nights</th>\n",
       "      <th>stays_in_week_nights</th>\n",
       "      <th>adults</th>\n",
       "      <th>children</th>\n",
       "      <th>babies</th>\n",
       "      <th>previous_cancellations</th>\n",
       "      <th>previous_bookings_not_canceled</th>\n",
       "      <th>booking_changes</th>\n",
       "      <th>agent</th>\n",
       "      <th>company</th>\n",
       "      <th>days_in_waiting_list</th>\n",
       "      <th>adr</th>\n",
       "      <th>required_car_parking_spaces</th>\n",
       "      <th>total_of_special_requests</th>\n",
       "    </tr>\n",
       "  </thead>\n",
       "  <tbody>\n",
       "    <tr>\n",
       "      <th>count</th>\n",
       "      <td>119390.000000</td>\n",
       "      <td>119390.000000</td>\n",
       "      <td>119390.000000</td>\n",
       "      <td>119390.000000</td>\n",
       "      <td>119390.000000</td>\n",
       "      <td>119390.000000</td>\n",
       "      <td>119390.000000</td>\n",
       "      <td>119386.000000</td>\n",
       "      <td>119390.000000</td>\n",
       "      <td>119390.000000</td>\n",
       "      <td>119390.000000</td>\n",
       "      <td>119390.000000</td>\n",
       "      <td>103050.000000</td>\n",
       "      <td>6797.000000</td>\n",
       "      <td>119390.000000</td>\n",
       "      <td>119390.000000</td>\n",
       "      <td>119390.000000</td>\n",
       "      <td>119390.000000</td>\n",
       "    </tr>\n",
       "    <tr>\n",
       "      <th>mean</th>\n",
       "      <td>104.011416</td>\n",
       "      <td>2016.156554</td>\n",
       "      <td>27.165173</td>\n",
       "      <td>15.798241</td>\n",
       "      <td>0.927599</td>\n",
       "      <td>2.500302</td>\n",
       "      <td>1.856403</td>\n",
       "      <td>0.103890</td>\n",
       "      <td>0.007949</td>\n",
       "      <td>0.087118</td>\n",
       "      <td>0.137097</td>\n",
       "      <td>0.221124</td>\n",
       "      <td>86.693382</td>\n",
       "      <td>189.266735</td>\n",
       "      <td>2.321149</td>\n",
       "      <td>101.831122</td>\n",
       "      <td>0.062518</td>\n",
       "      <td>0.571363</td>\n",
       "    </tr>\n",
       "    <tr>\n",
       "      <th>std</th>\n",
       "      <td>106.863097</td>\n",
       "      <td>0.707476</td>\n",
       "      <td>13.605138</td>\n",
       "      <td>8.780829</td>\n",
       "      <td>0.998613</td>\n",
       "      <td>1.908286</td>\n",
       "      <td>0.579261</td>\n",
       "      <td>0.398561</td>\n",
       "      <td>0.097436</td>\n",
       "      <td>0.844336</td>\n",
       "      <td>1.497437</td>\n",
       "      <td>0.652306</td>\n",
       "      <td>110.774548</td>\n",
       "      <td>131.655015</td>\n",
       "      <td>17.594721</td>\n",
       "      <td>50.535790</td>\n",
       "      <td>0.245291</td>\n",
       "      <td>0.792798</td>\n",
       "    </tr>\n",
       "    <tr>\n",
       "      <th>min</th>\n",
       "      <td>0.000000</td>\n",
       "      <td>2015.000000</td>\n",
       "      <td>1.000000</td>\n",
       "      <td>1.000000</td>\n",
       "      <td>0.000000</td>\n",
       "      <td>0.000000</td>\n",
       "      <td>0.000000</td>\n",
       "      <td>0.000000</td>\n",
       "      <td>0.000000</td>\n",
       "      <td>0.000000</td>\n",
       "      <td>0.000000</td>\n",
       "      <td>0.000000</td>\n",
       "      <td>1.000000</td>\n",
       "      <td>6.000000</td>\n",
       "      <td>0.000000</td>\n",
       "      <td>-6.380000</td>\n",
       "      <td>0.000000</td>\n",
       "      <td>0.000000</td>\n",
       "    </tr>\n",
       "    <tr>\n",
       "      <th>25%</th>\n",
       "      <td>18.000000</td>\n",
       "      <td>2016.000000</td>\n",
       "      <td>16.000000</td>\n",
       "      <td>8.000000</td>\n",
       "      <td>0.000000</td>\n",
       "      <td>1.000000</td>\n",
       "      <td>2.000000</td>\n",
       "      <td>0.000000</td>\n",
       "      <td>0.000000</td>\n",
       "      <td>0.000000</td>\n",
       "      <td>0.000000</td>\n",
       "      <td>0.000000</td>\n",
       "      <td>9.000000</td>\n",
       "      <td>62.000000</td>\n",
       "      <td>0.000000</td>\n",
       "      <td>69.290000</td>\n",
       "      <td>0.000000</td>\n",
       "      <td>0.000000</td>\n",
       "    </tr>\n",
       "    <tr>\n",
       "      <th>50%</th>\n",
       "      <td>69.000000</td>\n",
       "      <td>2016.000000</td>\n",
       "      <td>28.000000</td>\n",
       "      <td>16.000000</td>\n",
       "      <td>1.000000</td>\n",
       "      <td>2.000000</td>\n",
       "      <td>2.000000</td>\n",
       "      <td>0.000000</td>\n",
       "      <td>0.000000</td>\n",
       "      <td>0.000000</td>\n",
       "      <td>0.000000</td>\n",
       "      <td>0.000000</td>\n",
       "      <td>14.000000</td>\n",
       "      <td>179.000000</td>\n",
       "      <td>0.000000</td>\n",
       "      <td>94.575000</td>\n",
       "      <td>0.000000</td>\n",
       "      <td>0.000000</td>\n",
       "    </tr>\n",
       "    <tr>\n",
       "      <th>75%</th>\n",
       "      <td>160.000000</td>\n",
       "      <td>2017.000000</td>\n",
       "      <td>38.000000</td>\n",
       "      <td>23.000000</td>\n",
       "      <td>2.000000</td>\n",
       "      <td>3.000000</td>\n",
       "      <td>2.000000</td>\n",
       "      <td>0.000000</td>\n",
       "      <td>0.000000</td>\n",
       "      <td>0.000000</td>\n",
       "      <td>0.000000</td>\n",
       "      <td>0.000000</td>\n",
       "      <td>229.000000</td>\n",
       "      <td>270.000000</td>\n",
       "      <td>0.000000</td>\n",
       "      <td>126.000000</td>\n",
       "      <td>0.000000</td>\n",
       "      <td>1.000000</td>\n",
       "    </tr>\n",
       "    <tr>\n",
       "      <th>max</th>\n",
       "      <td>737.000000</td>\n",
       "      <td>2017.000000</td>\n",
       "      <td>53.000000</td>\n",
       "      <td>31.000000</td>\n",
       "      <td>19.000000</td>\n",
       "      <td>50.000000</td>\n",
       "      <td>55.000000</td>\n",
       "      <td>10.000000</td>\n",
       "      <td>10.000000</td>\n",
       "      <td>26.000000</td>\n",
       "      <td>72.000000</td>\n",
       "      <td>21.000000</td>\n",
       "      <td>535.000000</td>\n",
       "      <td>543.000000</td>\n",
       "      <td>391.000000</td>\n",
       "      <td>5400.000000</td>\n",
       "      <td>8.000000</td>\n",
       "      <td>5.000000</td>\n",
       "    </tr>\n",
       "  </tbody>\n",
       "</table>\n",
       "</div>"
      ],
      "text/plain": [
       "           lead_time  arrival_date_year  arrival_date_week_number  \\\n",
       "count  119390.000000      119390.000000             119390.000000   \n",
       "mean      104.011416        2016.156554                 27.165173   \n",
       "std       106.863097           0.707476                 13.605138   \n",
       "min         0.000000        2015.000000                  1.000000   \n",
       "25%        18.000000        2016.000000                 16.000000   \n",
       "50%        69.000000        2016.000000                 28.000000   \n",
       "75%       160.000000        2017.000000                 38.000000   \n",
       "max       737.000000        2017.000000                 53.000000   \n",
       "\n",
       "       arrival_date_day_of_month  stays_in_weekend_nights  \\\n",
       "count              119390.000000            119390.000000   \n",
       "mean                   15.798241                 0.927599   \n",
       "std                     8.780829                 0.998613   \n",
       "min                     1.000000                 0.000000   \n",
       "25%                     8.000000                 0.000000   \n",
       "50%                    16.000000                 1.000000   \n",
       "75%                    23.000000                 2.000000   \n",
       "max                    31.000000                19.000000   \n",
       "\n",
       "       stays_in_week_nights         adults       children         babies  \\\n",
       "count         119390.000000  119390.000000  119386.000000  119390.000000   \n",
       "mean               2.500302       1.856403       0.103890       0.007949   \n",
       "std                1.908286       0.579261       0.398561       0.097436   \n",
       "min                0.000000       0.000000       0.000000       0.000000   \n",
       "25%                1.000000       2.000000       0.000000       0.000000   \n",
       "50%                2.000000       2.000000       0.000000       0.000000   \n",
       "75%                3.000000       2.000000       0.000000       0.000000   \n",
       "max               50.000000      55.000000      10.000000      10.000000   \n",
       "\n",
       "       previous_cancellations  previous_bookings_not_canceled  \\\n",
       "count           119390.000000                   119390.000000   \n",
       "mean                 0.087118                        0.137097   \n",
       "std                  0.844336                        1.497437   \n",
       "min                  0.000000                        0.000000   \n",
       "25%                  0.000000                        0.000000   \n",
       "50%                  0.000000                        0.000000   \n",
       "75%                  0.000000                        0.000000   \n",
       "max                 26.000000                       72.000000   \n",
       "\n",
       "       booking_changes          agent      company  days_in_waiting_list  \\\n",
       "count    119390.000000  103050.000000  6797.000000         119390.000000   \n",
       "mean          0.221124      86.693382   189.266735              2.321149   \n",
       "std           0.652306     110.774548   131.655015             17.594721   \n",
       "min           0.000000       1.000000     6.000000              0.000000   \n",
       "25%           0.000000       9.000000    62.000000              0.000000   \n",
       "50%           0.000000      14.000000   179.000000              0.000000   \n",
       "75%           0.000000     229.000000   270.000000              0.000000   \n",
       "max          21.000000     535.000000   543.000000            391.000000   \n",
       "\n",
       "                 adr  required_car_parking_spaces  total_of_special_requests  \n",
       "count  119390.000000                119390.000000              119390.000000  \n",
       "mean      101.831122                     0.062518                   0.571363  \n",
       "std        50.535790                     0.245291                   0.792798  \n",
       "min        -6.380000                     0.000000                   0.000000  \n",
       "25%        69.290000                     0.000000                   0.000000  \n",
       "50%        94.575000                     0.000000                   0.000000  \n",
       "75%       126.000000                     0.000000                   1.000000  \n",
       "max      5400.000000                     8.000000                   5.000000  "
      ]
     },
     "execution_count": 13,
     "metadata": {},
     "output_type": "execute_result"
    }
   ],
   "source": [
    "df_numerical = df[['lead_time', 'arrival_date_year',\n",
    "       'arrival_date_week_number',\n",
    "       'arrival_date_day_of_month', 'stays_in_weekend_nights',\n",
    "       'stays_in_week_nights', 'adults', 'children', 'babies','previous_cancellations',\n",
    "       'previous_bookings_not_canceled', 'booking_changes',  'agent',\n",
    "       'company', 'days_in_waiting_list',  'adr',\n",
    "       'required_car_parking_spaces', 'total_of_special_requests']]\n",
    "\n",
    "df_numerical.describe()"
   ]
  },
  {
   "cell_type": "markdown",
   "id": "e367b696",
   "metadata": {},
   "source": [
    "### 1.3 Visual Exploratory Data Analysis (VEDA)"
   ]
  },
  {
   "cell_type": "markdown",
   "id": "ad42ec6f",
   "metadata": {},
   "source": [
    "- Sometimes extreme values will stand out much more in a chart\n",
    "- We use histograms and boxplots for numerical data\n",
    "- We use bar plots for categorical data"
   ]
  },
  {
   "cell_type": "markdown",
   "id": "4dc4d0ae",
   "metadata": {},
   "source": [
    "#### Visualizing Numerical Columns --"
   ]
  },
  {
   "cell_type": "code",
   "execution_count": 14,
   "id": "4c1965ed",
   "metadata": {},
   "outputs": [
    {
     "data": {
      "text/plain": [
       "array([[<AxesSubplot:title={'center':'lead_time'}>,\n",
       "        <AxesSubplot:title={'center':'arrival_date_year'}>,\n",
       "        <AxesSubplot:title={'center':'arrival_date_week_number'}>,\n",
       "        <AxesSubplot:title={'center':'arrival_date_day_of_month'}>],\n",
       "       [<AxesSubplot:title={'center':'stays_in_weekend_nights'}>,\n",
       "        <AxesSubplot:title={'center':'stays_in_week_nights'}>,\n",
       "        <AxesSubplot:title={'center':'adults'}>,\n",
       "        <AxesSubplot:title={'center':'children'}>],\n",
       "       [<AxesSubplot:title={'center':'babies'}>,\n",
       "        <AxesSubplot:title={'center':'previous_cancellations'}>,\n",
       "        <AxesSubplot:title={'center':'previous_bookings_not_canceled'}>,\n",
       "        <AxesSubplot:title={'center':'booking_changes'}>],\n",
       "       [<AxesSubplot:title={'center':'agent'}>,\n",
       "        <AxesSubplot:title={'center':'company'}>,\n",
       "        <AxesSubplot:title={'center':'days_in_waiting_list'}>,\n",
       "        <AxesSubplot:title={'center':'adr'}>],\n",
       "       [<AxesSubplot:title={'center':'required_car_parking_spaces'}>,\n",
       "        <AxesSubplot:title={'center':'total_of_special_requests'}>,\n",
       "        <AxesSubplot:>, <AxesSubplot:>]], dtype=object)"
      ]
     },
     "execution_count": 14,
     "metadata": {},
     "output_type": "execute_result"
    },
    {
     "data": {
      "image/png": "[encoded data removed]",
      "text/plain": [
       "<Figure size 1080x1440 with 20 Axes>"
      ]
     },
     "metadata": {
      "needs_background": "light"
     },
     "output_type": "display_data"
    }
   ],
   "source": [
    "df_numerical.hist(bins=30, figsize=(15,20))"
   ]
  },
  {
   "cell_type": "code",
   "execution_count": 15,
   "id": "7192addc",
   "metadata": {},
   "outputs": [
    {
     "data": {
      "image/png": "[encoded data removed]",
      "text/plain": [
       "<Figure size 432x288 with 1 Axes>"
      ]
     },
     "metadata": {
      "needs_background": "light"
     },
     "output_type": "display_data"
    },
    {
     "data": {
      "image/png": "[encoded data removed]",
      "text/plain": [
       "<Figure size 432x288 with 1 Axes>"
      ]
     },
     "metadata": {
      "needs_background": "light"
     },
     "output_type": "display_data"
    },
    {
     "data": {
      "image/png": "[encoded data removed]",
      "text/plain": [
       "<Figure size 432x288 with 1 Axes>"
      ]
     },
     "metadata": {
      "needs_background": "light"
     },
     "output_type": "display_data"
    },
    {
     "data": {
      "image/png": "[encoded data removed]",
      "text/plain": [
       "<Figure size 432x288 with 1 Axes>"
      ]
     },
     "metadata": {
      "needs_background": "light"
     },
     "output_type": "display_data"
    },
    {
     "data": {
      "image/png": "[encoded data removed]",
      "text/plain": [
       "<Figure size 432x288 with 1 Axes>"
      ]
     },
     "metadata": {
      "needs_background": "light"
     },
     "output_type": "display_data"
    },
    {
     "data": {
      "image/png": "[encoded data removed]",
      "text/plain": [
       "<Figure size 432x288 with 1 Axes>"
      ]
     },
     "metadata": {
      "needs_background": "light"
     },
     "output_type": "display_data"
    },
    {
     "data": {
      "image/png": "[encoded data removed]",
      "text/plain": [
       "<Figure size 432x288 with 1 Axes>"
      ]
     },
     "metadata": {
      "needs_background": "light"
     },
     "output_type": "display_data"
    },
    {
     "data": {
      "image/png": "[encoded data removed]",
      "text/plain": [
       "<Figure size 432x288 with 1 Axes>"
      ]
     },
     "metadata": {
      "needs_background": "light"
     },
     "output_type": "display_data"
    },
    {
     "data": {
      "image/png": "[encoded data removed]",
      "text/plain": [
       "<Figure size 432x288 with 1 Axes>"
      ]
     },
     "metadata": {
      "needs_background": "light"
     },
     "output_type": "display_data"
    },
    {
     "data": {
      "image/png": "[encoded data removed]",
      "text/plain": [
       "<Figure size 432x288 with 1 Axes>"
      ]
     },
     "metadata": {
      "needs_background": "light"
     },
     "output_type": "display_data"
    },
    {
     "data": {
      "image/png": "[encoded data removed]",
      "text/plain": [
       "<Figure size 432x288 with 1 Axes>"
      ]
     },
     "metadata": {
      "needs_background": "light"
     },
     "output_type": "display_data"
    },
    {
     "data": {
      "image/png": "[encoded data removed]",
      "text/plain": [
       "<Figure size 432x288 with 1 Axes>"
      ]
     },
     "metadata": {
      "needs_background": "light"
     },
     "output_type": "display_data"
    },
    {
     "data": {
      "image/png": "[encoded data removed]",
      "text/plain": [
       "<Figure size 432x288 with 1 Axes>"
      ]
     },
     "metadata": {
      "needs_background": "light"
     },
     "output_type": "display_data"
    },
    {
     "data": {
      "image/png": "[encoded data removed]",
      "text/plain": [
       "<Figure size 432x288 with 1 Axes>"
      ]
     },
     "metadata": {
      "needs_background": "light"
     },
     "output_type": "display_data"
    },
    {
     "data": {
      "image/png": "[encoded data removed]",
      "text/plain": [
       "<Figure size 432x288 with 1 Axes>"
      ]
     },
     "metadata": {
      "needs_background": "light"
     },
     "output_type": "display_data"
    },
    {
     "data": {
      "image/png": "[encoded data removed]",
      "text/plain": [
       "<Figure size 432x288 with 1 Axes>"
      ]
     },
     "metadata": {
      "needs_background": "light"
     },
     "output_type": "display_data"
    },
    {
     "data": {
      "image/png": "[encoded data removed]",
      "text/plain": [
       "<Figure size 432x288 with 1 Axes>"
      ]
     },
     "metadata": {
      "needs_background": "light"
     },
     "output_type": "display_data"
    },
    {
     "data": {
      "image/png": "[encoded data removed]",
      "text/plain": [
       "<Figure size 432x288 with 1 Axes>"
      ]
     },
     "metadata": {
      "needs_background": "light"
     },
     "output_type": "display_data"
    }
   ],
   "source": [
    "for column in df_numerical:\n",
    "    plt.figure()\n",
    "    df.boxplot([column])"
   ]
  },
  {
   "cell_type": "markdown",
   "id": "33493f80",
   "metadata": {},
   "source": [
    "Most of the data columns centered around one value, which are:\n",
    "\n",
    "    - previous_cancellations\n",
    "    - days_in_waiting_list\n",
    "    - required_car_parking_spaces\n",
    "    - previous_bookings_not_canceled\n",
    "    - booking_changes\n",
    "    - children\n",
    "    - babies\n",
    "    - adr \n",
    "    - adult"
   ]
  },
  {
   "cell_type": "markdown",
   "id": "c0298d4f",
   "metadata": {},
   "source": [
    "### >>> 2. Cleaning Data for Analysis <<<"
   ]
  },
  {
   "cell_type": "markdown",
   "id": "6e8a2a84",
   "metadata": {},
   "source": [
    "- Fix Structure Error for categorical and numerical data\n",
    "- Deal with Duplicate and missing data"
   ]
  },
  {
   "cell_type": "markdown",
   "id": "51a67cd9",
   "metadata": {},
   "source": [
    "## 2.1 Fix Structure Error"
   ]
  },
  {
   "cell_type": "markdown",
   "id": "04287fc9",
   "metadata": {},
   "source": [
    "1. Categorical Data\n",
    "    - Converting categorical data to 'category' dtype:\n",
    "    - This makes the DataFrame smaller in memory\n",
    "    - This makes these columns suitable to be utilized by other Python libraries for analysis\n",
    "<br><br>\n",
    "2. Numerical data\n",
    "    - If you expect the data type of a column to be numeric (int or float), but instead it is of type object, this typically means that there is a non numeric value in the column, which also signifies bad data.\n",
    "    - You can either use the some techniques to do some exploratory data analysis and find the bad value, or you can choose to ignore or coerce the value into a missing value, NaN.\n"
   ]
  },
  {
   "cell_type": "markdown",
   "id": "0895220c",
   "metadata": {},
   "source": [
    "#### Fix Data Type"
   ]
  },
  {
   "cell_type": "markdown",
   "id": "b4176f5f",
   "metadata": {},
   "source": [
    "#####  <code>Categorical Data Type</code></h2>"
   ]
  },
  {
   "cell_type": "markdown",
   "id": "b23785fe",
   "metadata": {},
   "source": [
    "The *category data type* in Python will continue to look like a string character to us and in many places will behave like a string (or object) type; however, it is internally being represented by integer values, unique to each category.\n",
    "\n",
    "Here's how we change to the category dtype"
   ]
  },
  {
   "cell_type": "code",
   "execution_count": 17,
   "id": "182d19aa",
   "metadata": {},
   "outputs": [
    {
     "data": {
      "text/html": [
       "<div>\n",
       "<style scoped>\n",
       "    .dataframe tbody tr th:only-of-type {\n",
       "        vertical-align: middle;\n",
       "    }\n",
       "\n",
       "    .dataframe tbody tr th {\n",
       "        vertical-align: top;\n",
       "    }\n",
       "\n",
       "    .dataframe thead th {\n",
       "        text-align: right;\n",
       "    }\n",
       "</style>\n",
       "<table border=\"1\" class=\"dataframe\">\n",
       "  <thead>\n",
       "    <tr style=\"text-align: right;\">\n",
       "      <th></th>\n",
       "      <th>hotel</th>\n",
       "      <th>is_canceled</th>\n",
       "      <th>arrival_date_month</th>\n",
       "      <th>meal</th>\n",
       "      <th>country</th>\n",
       "      <th>market_segment</th>\n",
       "      <th>distribution_channel</th>\n",
       "      <th>is_repeated_guest</th>\n",
       "      <th>deposit_type</th>\n",
       "      <th>customer_type</th>\n",
       "      <th>reservation_status</th>\n",
       "      <th>reservation_status_date</th>\n",
       "    </tr>\n",
       "  </thead>\n",
       "  <tbody>\n",
       "    <tr>\n",
       "      <th>0</th>\n",
       "      <td>Resort Hotel</td>\n",
       "      <td>0</td>\n",
       "      <td>July</td>\n",
       "      <td>BB</td>\n",
       "      <td>PRT</td>\n",
       "      <td>Direct</td>\n",
       "      <td>Direct</td>\n",
       "      <td>0</td>\n",
       "      <td>No Deposit</td>\n",
       "      <td>Transient</td>\n",
       "      <td>Check-Out</td>\n",
       "      <td>2015-07-01</td>\n",
       "    </tr>\n",
       "    <tr>\n",
       "      <th>1</th>\n",
       "      <td>Resort Hotel</td>\n",
       "      <td>0</td>\n",
       "      <td>July</td>\n",
       "      <td>BB</td>\n",
       "      <td>PRT</td>\n",
       "      <td>Direct</td>\n",
       "      <td>Direct</td>\n",
       "      <td>0</td>\n",
       "      <td>No Deposit</td>\n",
       "      <td>Transient</td>\n",
       "      <td>Check-Out</td>\n",
       "      <td>2015-07-01</td>\n",
       "    </tr>\n",
       "    <tr>\n",
       "      <th>2</th>\n",
       "      <td>Resort Hotel</td>\n",
       "      <td>0</td>\n",
       "      <td>July</td>\n",
       "      <td>BB</td>\n",
       "      <td>GBR</td>\n",
       "      <td>Direct</td>\n",
       "      <td>Direct</td>\n",
       "      <td>0</td>\n",
       "      <td>No Deposit</td>\n",
       "      <td>Transient</td>\n",
       "      <td>Check-Out</td>\n",
       "      <td>2015-07-02</td>\n",
       "    </tr>\n",
       "    <tr>\n",
       "      <th>3</th>\n",
       "      <td>Resort Hotel</td>\n",
       "      <td>0</td>\n",
       "      <td>July</td>\n",
       "      <td>BB</td>\n",
       "      <td>GBR</td>\n",
       "      <td>Corporate</td>\n",
       "      <td>Corporate</td>\n",
       "      <td>0</td>\n",
       "      <td>No Deposit</td>\n",
       "      <td>Transient</td>\n",
       "      <td>Check-Out</td>\n",
       "      <td>2015-07-02</td>\n",
       "    </tr>\n",
       "    <tr>\n",
       "      <th>4</th>\n",
       "      <td>Resort Hotel</td>\n",
       "      <td>0</td>\n",
       "      <td>July</td>\n",
       "      <td>BB</td>\n",
       "      <td>GBR</td>\n",
       "      <td>Online TA</td>\n",
       "      <td>TA/TO</td>\n",
       "      <td>0</td>\n",
       "      <td>No Deposit</td>\n",
       "      <td>Transient</td>\n",
       "      <td>Check-Out</td>\n",
       "      <td>2015-07-03</td>\n",
       "    </tr>\n",
       "  </tbody>\n",
       "</table>\n",
       "</div>"
      ],
      "text/plain": [
       "          hotel  is_canceled arrival_date_month meal country market_segment  \\\n",
       "0  Resort Hotel            0               July   BB     PRT         Direct   \n",
       "1  Resort Hotel            0               July   BB     PRT         Direct   \n",
       "2  Resort Hotel            0               July   BB     GBR         Direct   \n",
       "3  Resort Hotel            0               July   BB     GBR      Corporate   \n",
       "4  Resort Hotel            0               July   BB     GBR      Online TA   \n",
       "\n",
       "  distribution_channel  is_repeated_guest deposit_type customer_type  \\\n",
       "0               Direct                  0   No Deposit     Transient   \n",
       "1               Direct                  0   No Deposit     Transient   \n",
       "2               Direct                  0   No Deposit     Transient   \n",
       "3            Corporate                  0   No Deposit     Transient   \n",
       "4                TA/TO                  0   No Deposit     Transient   \n",
       "\n",
       "  reservation_status reservation_status_date  \n",
       "0          Check-Out              2015-07-01  \n",
       "1          Check-Out              2015-07-01  \n",
       "2          Check-Out              2015-07-02  \n",
       "3          Check-Out              2015-07-02  \n",
       "4          Check-Out              2015-07-03  "
      ]
     },
     "execution_count": 17,
     "metadata": {},
     "output_type": "execute_result"
    }
   ],
   "source": [
    "df_cat.head()"
   ]
  },
  {
   "cell_type": "code",
   "execution_count": 18,
   "id": "c01ac77c",
   "metadata": {},
   "outputs": [
    {
     "name": "stdout",
     "output_type": "stream",
     "text": [
      "<class 'pandas.core.frame.DataFrame'>\n",
      "RangeIndex: 119390 entries, 0 to 119389\n",
      "Data columns (total 12 columns):\n",
      " #   Column                   Non-Null Count   Dtype \n",
      "---  ------                   --------------   ----- \n",
      " 0   hotel                    119390 non-null  object\n",
      " 1   is_canceled              119390 non-null  int64 \n",
      " 2   arrival_date_month       119390 non-null  object\n",
      " 3   meal                     119390 non-null  object\n",
      " 4   country                  118902 non-null  object\n",
      " 5   market_segment           119390 non-null  object\n",
      " 6   distribution_channel     119390 non-null  object\n",
      " 7   is_repeated_guest        119390 non-null  int64 \n",
      " 8   deposit_type             119390 non-null  object\n",
      " 9   customer_type            119390 non-null  object\n",
      " 10  reservation_status       119390 non-null  object\n",
      " 11  reservation_status_date  119390 non-null  object\n",
      "dtypes: int64(2), object(10)\n",
      "memory usage: 10.9+ MB\n"
     ]
    }
   ],
   "source": [
    "df_cat.info()"
   ]
  },
  {
   "cell_type": "code",
   "execution_count": 19,
   "id": "3fa493fe",
   "metadata": {},
   "outputs": [
    {
     "name": "stderr",
     "output_type": "stream",
     "text": [
      "C:\\Users\\User\\AppData\\Local\\Temp/ipykernel_12384/3094491938.py:2: SettingWithCopyWarning: \n",
      "A value is trying to be set on a copy of a slice from a DataFrame.\n",
      "Try using .loc[row_indexer,col_indexer] = value instead\n",
      "\n",
      "See the caveats in the documentation: https://pandas.pydata.org/pandas-docs/stable/user_guide/indexing.html#returning-a-view-versus-a-copy\n",
      "  df_cat[col] = df_cat[col].astype(\"category\")\n"
     ]
    }
   ],
   "source": [
    "for col in df_cat.columns:\n",
    "    df_cat[col] = df_cat[col].astype(\"category\")"
   ]
  },
  {
   "cell_type": "markdown",
   "id": "6d332127",
   "metadata": {},
   "source": [
    "Below, we confirm that the dtype has changed to category:"
   ]
  },
  {
   "cell_type": "code",
   "execution_count": 20,
   "id": "a87223c3",
   "metadata": {},
   "outputs": [
    {
     "name": "stdout",
     "output_type": "stream",
     "text": [
      "<class 'pandas.core.frame.DataFrame'>\n",
      "RangeIndex: 119390 entries, 0 to 119389\n",
      "Data columns (total 12 columns):\n",
      " #   Column                   Non-Null Count   Dtype   \n",
      "---  ------                   --------------   -----   \n",
      " 0   hotel                    119390 non-null  category\n",
      " 1   is_canceled              119390 non-null  category\n",
      " 2   arrival_date_month       119390 non-null  category\n",
      " 3   meal                     119390 non-null  category\n",
      " 4   country                  118902 non-null  category\n",
      " 5   market_segment           119390 non-null  category\n",
      " 6   distribution_channel     119390 non-null  category\n",
      " 7   is_repeated_guest        119390 non-null  category\n",
      " 8   deposit_type             119390 non-null  category\n",
      " 9   customer_type            119390 non-null  category\n",
      " 10  reservation_status       119390 non-null  category\n",
      " 11  reservation_status_date  119390 non-null  category\n",
      "dtypes: category(12)\n",
      "memory usage: 1.6 MB\n"
     ]
    }
   ],
   "source": [
    "df_cat.info()"
   ]
  },
  {
   "cell_type": "markdown",
   "id": "64d563e6",
   "metadata": {},
   "source": [
    "#####  <code>Neumerical Data Type</code></h2>"
   ]
  },
  {
   "cell_type": "markdown",
   "id": "d439fb01",
   "metadata": {},
   "source": [
    "- Convert float to int"
   ]
  },
  {
   "cell_type": "code",
   "execution_count": 21,
   "id": "780a60e9",
   "metadata": {},
   "outputs": [
    {
     "name": "stdout",
     "output_type": "stream",
     "text": [
      "<class 'pandas.core.frame.DataFrame'>\n",
      "RangeIndex: 119390 entries, 0 to 119389\n",
      "Data columns (total 18 columns):\n",
      " #   Column                          Non-Null Count   Dtype  \n",
      "---  ------                          --------------   -----  \n",
      " 0   lead_time                       119390 non-null  int64  \n",
      " 1   arrival_date_year               119390 non-null  int64  \n",
      " 2   arrival_date_week_number        119390 non-null  int64  \n",
      " 3   arrival_date_day_of_month       119390 non-null  int64  \n",
      " 4   stays_in_weekend_nights         119390 non-null  int64  \n",
      " 5   stays_in_week_nights            119390 non-null  int64  \n",
      " 6   adults                          119390 non-null  int64  \n",
      " 7   children                        119386 non-null  float64\n",
      " 8   babies                          119390 non-null  int64  \n",
      " 9   previous_cancellations          119390 non-null  int64  \n",
      " 10  previous_bookings_not_canceled  119390 non-null  int64  \n",
      " 11  booking_changes                 119390 non-null  int64  \n",
      " 12  agent                           103050 non-null  float64\n",
      " 13  company                         6797 non-null    float64\n",
      " 14  days_in_waiting_list            119390 non-null  int64  \n",
      " 15  adr                             119390 non-null  float64\n",
      " 16  required_car_parking_spaces     119390 non-null  int64  \n",
      " 17  total_of_special_requests       119390 non-null  int64  \n",
      "dtypes: float64(4), int64(14)\n",
      "memory usage: 16.4 MB\n"
     ]
    }
   ],
   "source": [
    "df_numerical.info()"
   ]
  },
  {
   "cell_type": "markdown",
   "id": "6b95593b",
   "metadata": {},
   "source": [
    "Running the code result in exception since we have missing values in children, company and agent columns. Hence, we need to handle missing values before converting to int."
   ]
  },
  {
   "cell_type": "markdown",
   "id": "43abccd6",
   "metadata": {},
   "source": [
    "#### Clean String Values"
   ]
  },
  {
   "cell_type": "markdown",
   "id": "3cbddce6",
   "metadata": {},
   "source": [
    "Column meal has 4 category: BB, HB, FB, SC, undefined, whereas SC and undefined belong to same category, so we need to group them together."
   ]
  },
  {
   "cell_type": "code",
   "execution_count": 22,
   "id": "7426908c",
   "metadata": {},
   "outputs": [
    {
     "data": {
      "text/plain": [
       "BB           92310\n",
       "HB           14463\n",
       "SC           10650\n",
       "Undefined     1169\n",
       "FB             798\n",
       "Name: meal, dtype: int64"
      ]
     },
     "execution_count": 22,
     "metadata": {},
     "output_type": "execute_result"
    }
   ],
   "source": [
    "# First we have to fix 'null' values from the dataset, then we can change 'floats' into 'int':\n",
    "\n",
    "df_cat.meal.value_counts()"
   ]
  },
  {
   "cell_type": "code",
   "execution_count": 23,
   "id": "17b84d57",
   "metadata": {},
   "outputs": [
    {
     "name": "stderr",
     "output_type": "stream",
     "text": [
      "C:\\Users\\User\\anaconda3\\lib\\site-packages\\pandas\\core\\generic.py:5516: SettingWithCopyWarning: \n",
      "A value is trying to be set on a copy of a slice from a DataFrame.\n",
      "Try using .loc[row_indexer,col_indexer] = value instead\n",
      "\n",
      "See the caveats in the documentation: https://pandas.pydata.org/pandas-docs/stable/user_guide/indexing.html#returning-a-view-versus-a-copy\n",
      "  self[name] = value\n"
     ]
    }
   ],
   "source": [
    "df_cat.meal = df_cat.meal.str.replace(\"SC\", \"Undefined\")"
   ]
  },
  {
   "cell_type": "code",
   "execution_count": 24,
   "id": "2763e50f",
   "metadata": {},
   "outputs": [
    {
     "data": {
      "text/plain": [
       "BB           92310\n",
       "HB           14463\n",
       "Undefined    11819\n",
       "FB             798\n",
       "Name: meal, dtype: int64"
      ]
     },
     "execution_count": 24,
     "metadata": {},
     "output_type": "execute_result"
    }
   ],
   "source": [
    "df_cat.meal.value_counts()"
   ]
  },
  {
   "cell_type": "markdown",
   "id": "07ad1be9",
   "metadata": {},
   "source": [
    "## 2.2 Duplicate and Missing Data"
   ]
  },
  {
   "cell_type": "markdown",
   "id": "68d0d1b0",
   "metadata": {},
   "source": [
    "#### Check Duplicates --"
   ]
  },
  {
   "cell_type": "code",
   "execution_count": 25,
   "id": "40f9ea3f",
   "metadata": {},
   "outputs": [
    {
     "name": "stdout",
     "output_type": "stream",
     "text": [
      "0         False\n",
      "1         False\n",
      "2         False\n",
      "3         False\n",
      "4         False\n",
      "          ...  \n",
      "119385    False\n",
      "119386    False\n",
      "119387    False\n",
      "119388    False\n",
      "119389    False\n",
      "Length: 119390, dtype: bool\n",
      "0         False\n",
      "1          True\n",
      "2         False\n",
      "3         False\n",
      "4         False\n",
      "          ...  \n",
      "119385     True\n",
      "119386    False\n",
      "119387    False\n",
      "119388    False\n",
      "119389    False\n",
      "Length: 119390, dtype: bool\n"
     ]
    }
   ],
   "source": [
    "# Here we check if there's any duplicated row inside of the dataset:\n",
    "\n",
    "print(df_numerical.duplicated(subset=None, keep=\"first\"))\n",
    "print(df_cat.duplicated(subset=None, keep=\"first\"))"
   ]
  },
  {
   "cell_type": "code",
   "execution_count": 26,
   "id": "b6b79c5b",
   "metadata": {},
   "outputs": [
    {
     "name": "stdout",
     "output_type": "stream",
     "text": [
      "True\n",
      "True\n"
     ]
    }
   ],
   "source": [
    "print(df_numerical.duplicated(subset=None, keep=\"first\").any())\n",
    "print(df_cat.duplicated(subset=None, keep=\"first\").any())"
   ]
  },
  {
   "cell_type": "markdown",
   "id": "33816a54",
   "metadata": {},
   "source": [
    "#### Remove Duplicates"
   ]
  },
  {
   "cell_type": "code",
   "execution_count": 27,
   "id": "c9d435b9",
   "metadata": {},
   "outputs": [
    {
     "name": "stderr",
     "output_type": "stream",
     "text": [
      "C:\\Users\\User\\anaconda3\\lib\\site-packages\\pandas\\util\\_decorators.py:311: SettingWithCopyWarning: \n",
      "A value is trying to be set on a copy of a slice from a DataFrame\n",
      "\n",
      "See the caveats in the documentation: https://pandas.pydata.org/pandas-docs/stable/user_guide/indexing.html#returning-a-view-versus-a-copy\n",
      "  return func(*args, **kwargs)\n"
     ]
    }
   ],
   "source": [
    "# Since there are duplicates, we need to remove them:\n",
    "\n",
    "df_numerical.drop_duplicates(subset=None, keep=\"first\", inplace=True)\n",
    "df_cat.drop_duplicates(subset=None, keep=\"first\", inplace=True)"
   ]
  },
  {
   "cell_type": "markdown",
   "id": "3cccf862",
   "metadata": {},
   "source": [
    "#### Re-Check duplicates after the remove operation"
   ]
  },
  {
   "cell_type": "code",
   "execution_count": 28,
   "id": "0c12d143",
   "metadata": {},
   "outputs": [
    {
     "name": "stdout",
     "output_type": "stream",
     "text": [
      "False\n",
      "False\n"
     ]
    }
   ],
   "source": [
    "# We double check to make sure there are no duplicates anymore:\n",
    "\n",
    "print(df_numerical.duplicated(subset=None, keep=\"first\").any())\n",
    "print(df_cat.duplicated(subset=None, keep=\"first\").any())"
   ]
  },
  {
   "cell_type": "markdown",
   "id": "8acec56e",
   "metadata": {},
   "source": [
    "#### Check Missing Values"
   ]
  },
  {
   "cell_type": "code",
   "execution_count": 29,
   "id": "e59abc47",
   "metadata": {},
   "outputs": [
    {
     "name": "stdout",
     "output_type": "stream",
     "text": [
      "hotel                        0\n",
      "is_canceled                  0\n",
      "arrival_date_month           0\n",
      "meal                         0\n",
      "country                    391\n",
      "market_segment               0\n",
      "distribution_channel         0\n",
      "is_repeated_guest            0\n",
      "deposit_type                 0\n",
      "customer_type                0\n",
      "reservation_status           0\n",
      "reservation_status_date      0\n",
      "dtype: int64\n"
     ]
    }
   ],
   "source": [
    "# Here we need to identify the nulls in our dataset:\n",
    "# Now remove null values:\n",
    "\n",
    "print(df_cat.isnull().sum(axis=0))"
   ]
  },
  {
   "cell_type": "code",
   "execution_count": 30,
   "id": "255dbf03",
   "metadata": {},
   "outputs": [
    {
     "name": "stdout",
     "output_type": "stream",
     "text": [
      "lead_time                             0\n",
      "arrival_date_year                     0\n",
      "arrival_date_week_number              0\n",
      "arrival_date_day_of_month             0\n",
      "stays_in_weekend_nights               0\n",
      "stays_in_week_nights                  0\n",
      "adults                                0\n",
      "children                              4\n",
      "babies                                0\n",
      "previous_cancellations                0\n",
      "previous_bookings_not_canceled        0\n",
      "booking_changes                       0\n",
      "agent                             11326\n",
      "company                           78629\n",
      "days_in_waiting_list                  0\n",
      "adr                                   0\n",
      "required_car_parking_spaces           0\n",
      "total_of_special_requests             0\n",
      "dtype: int64\n"
     ]
    }
   ],
   "source": [
    "print(df_numerical.isnull().sum(axis=0))"
   ]
  },
  {
   "cell_type": "markdown",
   "id": "47dd518b",
   "metadata": {},
   "source": [
    "#### Fill Missing Values"
   ]
  },
  {
   "cell_type": "markdown",
   "id": "11a1d654",
   "metadata": {},
   "source": [
    "We ususally can fill the nulls with mean, median, mode, etc.\n",
    "In this example, we chose to fill with the mode."
   ]
  },
  {
   "cell_type": "code",
   "execution_count": 34,
   "id": "dc3950ae",
   "metadata": {},
   "outputs": [],
   "source": [
    "# Compute the mode of the country, company, agent, and children columns: \n",
    "    # country_mode, company_mode, agent_mode, and children_mode\n",
    "\n",
    "country_mode= df_cat.country.mode()[0]\n",
    "company_mode = df_numerical.company.mode()[0]\n",
    "agent_mode = df_numerical.agent.mode()[0]\n",
    "children_mode = df_numerical.children.mode()[0]\n",
    "\n",
    "\n",
    "\n",
    "\n",
    "# Replace all the missing values in the \n",
    "    #company, country, agent, and children columns with the mode of that column\n",
    "    \n",
    "df_cat.country.fillna(country_mode,inplace=True)\n",
    "df_numerical.company.fillna(company_mode,inplace=True)\n",
    "df_numerical.agent.fillna(agent_mode,inplace=True)\n",
    "df_numerical.children.fillna(children_mode, inplace=True)"
   ]
  },
  {
   "cell_type": "markdown",
   "id": "ecf1c6b2",
   "metadata": {},
   "source": [
    "#### Re-Check Missing Values"
   ]
  },
  {
   "cell_type": "code",
   "execution_count": 35,
   "id": "e9ea0bd6",
   "metadata": {},
   "outputs": [
    {
     "name": "stdout",
     "output_type": "stream",
     "text": [
      "hotel                      0\n",
      "is_canceled                0\n",
      "arrival_date_month         0\n",
      "meal                       0\n",
      "country                    0\n",
      "market_segment             0\n",
      "distribution_channel       0\n",
      "is_repeated_guest          0\n",
      "deposit_type               0\n",
      "customer_type              0\n",
      "reservation_status         0\n",
      "reservation_status_date    0\n",
      "dtype: int64\n"
     ]
    }
   ],
   "source": [
    "# Here, we make sure that there are no missing values anymore:\n",
    "\n",
    "print(df_cat.isnull().sum(axis=0))"
   ]
  },
  {
   "cell_type": "code",
   "execution_count": 36,
   "id": "c6f66a5d",
   "metadata": {},
   "outputs": [
    {
     "data": {
      "text/html": [
       "<div>\n",
       "<style scoped>\n",
       "    .dataframe tbody tr th:only-of-type {\n",
       "        vertical-align: middle;\n",
       "    }\n",
       "\n",
       "    .dataframe tbody tr th {\n",
       "        vertical-align: top;\n",
       "    }\n",
       "\n",
       "    .dataframe thead th {\n",
       "        text-align: right;\n",
       "    }\n",
       "</style>\n",
       "<table border=\"1\" class=\"dataframe\">\n",
       "  <thead>\n",
       "    <tr style=\"text-align: right;\">\n",
       "      <th></th>\n",
       "      <th>hotel</th>\n",
       "      <th>is_canceled</th>\n",
       "      <th>arrival_date_month</th>\n",
       "      <th>meal</th>\n",
       "      <th>country</th>\n",
       "      <th>market_segment</th>\n",
       "      <th>distribution_channel</th>\n",
       "      <th>is_repeated_guest</th>\n",
       "      <th>deposit_type</th>\n",
       "      <th>customer_type</th>\n",
       "      <th>reservation_status</th>\n",
       "      <th>reservation_status_date</th>\n",
       "    </tr>\n",
       "  </thead>\n",
       "  <tbody>\n",
       "    <tr>\n",
       "      <th>0</th>\n",
       "      <td>Resort Hotel</td>\n",
       "      <td>0</td>\n",
       "      <td>July</td>\n",
       "      <td>BB</td>\n",
       "      <td>PRT</td>\n",
       "      <td>Direct</td>\n",
       "      <td>Direct</td>\n",
       "      <td>0</td>\n",
       "      <td>No Deposit</td>\n",
       "      <td>Transient</td>\n",
       "      <td>Check-Out</td>\n",
       "      <td>2015-07-01</td>\n",
       "    </tr>\n",
       "    <tr>\n",
       "      <th>2</th>\n",
       "      <td>Resort Hotel</td>\n",
       "      <td>0</td>\n",
       "      <td>July</td>\n",
       "      <td>BB</td>\n",
       "      <td>GBR</td>\n",
       "      <td>Direct</td>\n",
       "      <td>Direct</td>\n",
       "      <td>0</td>\n",
       "      <td>No Deposit</td>\n",
       "      <td>Transient</td>\n",
       "      <td>Check-Out</td>\n",
       "      <td>2015-07-02</td>\n",
       "    </tr>\n",
       "    <tr>\n",
       "      <th>3</th>\n",
       "      <td>Resort Hotel</td>\n",
       "      <td>0</td>\n",
       "      <td>July</td>\n",
       "      <td>BB</td>\n",
       "      <td>GBR</td>\n",
       "      <td>Corporate</td>\n",
       "      <td>Corporate</td>\n",
       "      <td>0</td>\n",
       "      <td>No Deposit</td>\n",
       "      <td>Transient</td>\n",
       "      <td>Check-Out</td>\n",
       "      <td>2015-07-02</td>\n",
       "    </tr>\n",
       "    <tr>\n",
       "      <th>4</th>\n",
       "      <td>Resort Hotel</td>\n",
       "      <td>0</td>\n",
       "      <td>July</td>\n",
       "      <td>BB</td>\n",
       "      <td>GBR</td>\n",
       "      <td>Online TA</td>\n",
       "      <td>TA/TO</td>\n",
       "      <td>0</td>\n",
       "      <td>No Deposit</td>\n",
       "      <td>Transient</td>\n",
       "      <td>Check-Out</td>\n",
       "      <td>2015-07-03</td>\n",
       "    </tr>\n",
       "    <tr>\n",
       "      <th>6</th>\n",
       "      <td>Resort Hotel</td>\n",
       "      <td>0</td>\n",
       "      <td>July</td>\n",
       "      <td>BB</td>\n",
       "      <td>PRT</td>\n",
       "      <td>Direct</td>\n",
       "      <td>Direct</td>\n",
       "      <td>0</td>\n",
       "      <td>No Deposit</td>\n",
       "      <td>Transient</td>\n",
       "      <td>Check-Out</td>\n",
       "      <td>2015-07-03</td>\n",
       "    </tr>\n",
       "  </tbody>\n",
       "</table>\n",
       "</div>"
      ],
      "text/plain": [
       "          hotel is_canceled arrival_date_month meal country market_segment  \\\n",
       "0  Resort Hotel           0               July   BB     PRT         Direct   \n",
       "2  Resort Hotel           0               July   BB     GBR         Direct   \n",
       "3  Resort Hotel           0               July   BB     GBR      Corporate   \n",
       "4  Resort Hotel           0               July   BB     GBR      Online TA   \n",
       "6  Resort Hotel           0               July   BB     PRT         Direct   \n",
       "\n",
       "  distribution_channel is_repeated_guest deposit_type customer_type  \\\n",
       "0               Direct                 0   No Deposit     Transient   \n",
       "2               Direct                 0   No Deposit     Transient   \n",
       "3            Corporate                 0   No Deposit     Transient   \n",
       "4                TA/TO                 0   No Deposit     Transient   \n",
       "6               Direct                 0   No Deposit     Transient   \n",
       "\n",
       "  reservation_status reservation_status_date  \n",
       "0          Check-Out              2015-07-01  \n",
       "2          Check-Out              2015-07-02  \n",
       "3          Check-Out              2015-07-02  \n",
       "4          Check-Out              2015-07-03  \n",
       "6          Check-Out              2015-07-03  "
      ]
     },
     "execution_count": 36,
     "metadata": {},
     "output_type": "execute_result"
    }
   ],
   "source": [
    "df_cat.head()"
   ]
  },
  {
   "cell_type": "code",
   "execution_count": 37,
   "id": "55635c19",
   "metadata": {},
   "outputs": [
    {
     "name": "stdout",
     "output_type": "stream",
     "text": [
      "lead_time                         0\n",
      "arrival_date_year                 0\n",
      "arrival_date_week_number          0\n",
      "arrival_date_day_of_month         0\n",
      "stays_in_weekend_nights           0\n",
      "stays_in_week_nights              0\n",
      "adults                            0\n",
      "children                          0\n",
      "babies                            0\n",
      "previous_cancellations            0\n",
      "previous_bookings_not_canceled    0\n",
      "booking_changes                   0\n",
      "agent                             0\n",
      "company                           0\n",
      "days_in_waiting_list              0\n",
      "adr                               0\n",
      "required_car_parking_spaces       0\n",
      "total_of_special_requests         0\n",
      "dtype: int64\n"
     ]
    }
   ],
   "source": [
    "print(df_numerical.isnull().sum(axis=0))"
   ]
  },
  {
   "cell_type": "markdown",
   "id": "bae1a71e",
   "metadata": {},
   "source": [
    "#### Convert 'float' to 'int'"
   ]
  },
  {
   "cell_type": "markdown",
   "id": "1679c5af",
   "metadata": {},
   "source": [
    "Now that we've dealt with missing values, we can change the data type from float to int.\n",
    "\n",
    "*(Note: integer arithmetics are faster than those of floats!)*"
   ]
  },
  {
   "cell_type": "code",
   "execution_count": 39,
   "id": "e517c55b",
   "metadata": {},
   "outputs": [
    {
     "name": "stdout",
     "output_type": "stream",
     "text": [
      "<class 'pandas.core.frame.DataFrame'>\n",
      "Int64Index: 83387 entries, 0 to 119389\n",
      "Data columns (total 18 columns):\n",
      " #   Column                          Non-Null Count  Dtype  \n",
      "---  ------                          --------------  -----  \n",
      " 0   lead_time                       83387 non-null  int64  \n",
      " 1   arrival_date_year               83387 non-null  int64  \n",
      " 2   arrival_date_week_number        83387 non-null  int64  \n",
      " 3   arrival_date_day_of_month       83387 non-null  int64  \n",
      " 4   stays_in_weekend_nights         83387 non-null  int64  \n",
      " 5   stays_in_week_nights            83387 non-null  int64  \n",
      " 6   adults                          83387 non-null  int64  \n",
      " 7   children                        83387 non-null  float64\n",
      " 8   babies                          83387 non-null  int64  \n",
      " 9   previous_cancellations          83387 non-null  int64  \n",
      " 10  previous_bookings_not_canceled  83387 non-null  int64  \n",
      " 11  booking_changes                 83387 non-null  int64  \n",
      " 12  agent                           83387 non-null  float64\n",
      " 13  company                         83387 non-null  float64\n",
      " 14  days_in_waiting_list            83387 non-null  int64  \n",
      " 15  adr                             83387 non-null  float64\n",
      " 16  required_car_parking_spaces     83387 non-null  int64  \n",
      " 17  total_of_special_requests       83387 non-null  int64  \n",
      "dtypes: float64(4), int64(14)\n",
      "memory usage: 12.1 MB\n"
     ]
    }
   ],
   "source": [
    "df_numerical.info()"
   ]
  },
  {
   "cell_type": "code",
   "execution_count": 40,
   "id": "70a79906",
   "metadata": {},
   "outputs": [
    {
     "name": "stderr",
     "output_type": "stream",
     "text": [
      "C:\\Users\\User\\anaconda3\\lib\\site-packages\\pandas\\core\\generic.py:5516: SettingWithCopyWarning: \n",
      "A value is trying to be set on a copy of a slice from a DataFrame.\n",
      "Try using .loc[row_indexer,col_indexer] = value instead\n",
      "\n",
      "See the caveats in the documentation: https://pandas.pydata.org/pandas-docs/stable/user_guide/indexing.html#returning-a-view-versus-a-copy\n",
      "  self[name] = value\n"
     ]
    }
   ],
   "source": [
    "# To run this program, remove 'null' and 'duplicates':\n",
    "\n",
    "df_numerical.children = df_numerical.children.astype(int)"
   ]
  },
  {
   "cell_type": "code",
   "execution_count": 41,
   "id": "2ee24252",
   "metadata": {},
   "outputs": [],
   "source": [
    "df_numerical.agent = df_numerical.agent.astype(int)\n",
    "df_numerical.company = df_numerical.company.astype(int)\n",
    "df_numerical.adr = df_numerical.adr.astype(int)"
   ]
  },
  {
   "cell_type": "code",
   "execution_count": 42,
   "id": "14daf5e9",
   "metadata": {},
   "outputs": [
    {
     "name": "stdout",
     "output_type": "stream",
     "text": [
      "<class 'pandas.core.frame.DataFrame'>\n",
      "Int64Index: 83387 entries, 0 to 119389\n",
      "Data columns (total 18 columns):\n",
      " #   Column                          Non-Null Count  Dtype\n",
      "---  ------                          --------------  -----\n",
      " 0   lead_time                       83387 non-null  int64\n",
      " 1   arrival_date_year               83387 non-null  int64\n",
      " 2   arrival_date_week_number        83387 non-null  int64\n",
      " 3   arrival_date_day_of_month       83387 non-null  int64\n",
      " 4   stays_in_weekend_nights         83387 non-null  int64\n",
      " 5   stays_in_week_nights            83387 non-null  int64\n",
      " 6   adults                          83387 non-null  int64\n",
      " 7   children                        83387 non-null  int32\n",
      " 8   babies                          83387 non-null  int64\n",
      " 9   previous_cancellations          83387 non-null  int64\n",
      " 10  previous_bookings_not_canceled  83387 non-null  int64\n",
      " 11  booking_changes                 83387 non-null  int64\n",
      " 12  agent                           83387 non-null  int32\n",
      " 13  company                         83387 non-null  int32\n",
      " 14  days_in_waiting_list            83387 non-null  int64\n",
      " 15  adr                             83387 non-null  int32\n",
      " 16  required_car_parking_spaces     83387 non-null  int64\n",
      " 17  total_of_special_requests       83387 non-null  int64\n",
      "dtypes: int32(4), int64(14)\n",
      "memory usage: 10.8 MB\n"
     ]
    }
   ],
   "source": [
    "df_numerical.info()"
   ]
  },
  {
   "cell_type": "code",
   "execution_count": null,
   "id": "495f0cdf",
   "metadata": {},
   "outputs": [],
   "source": []
  }
 ],
 "metadata": {
  "kernelspec": {
   "display_name": "Python 3 (ipykernel)",
   "language": "python",
   "name": "python3"
  },
  "language_info": {
   "codemirror_mode": {
    "name": "ipython",
    "version": 3
   },
   "file_extension": ".py",
   "mimetype": "text/x-python",
   "name": "python",
   "nbconvert_exporter": "python",
   "pygments_lexer": "ipython3",
   "version": "3.9.7"
  }
 },
 "nbformat": 4,
 "nbformat_minor": 5
}
